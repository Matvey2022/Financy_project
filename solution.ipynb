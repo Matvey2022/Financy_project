{
 "cells": [
  {
   "cell_type": "markdown",
   "metadata": {},
   "source": [
    "## Assignment №2: MOEX\n",
    "---\n",
    "\n",
    "#### Student:\n",
    "---\n",
    "\n",
    "<br><br>\n",
    "**Goal of this assignment**: To do a little research project to examine trading patterns of the MOEX stocks."
   ]
  },
  {
   "cell_type": "code",
   "execution_count": 3,
   "metadata": {},
   "outputs": [],
   "source": [
    "# let's import all that we need\n",
    "import pandas as pd\n",
    "import numpy as np\n",
    "import matplotlib.pyplot as plt\n",
    "import seaborn as sns\n",
    "from zipfile import ZipFile\n",
    "import os\n"
   ]
  },
  {
   "cell_type": "markdown",
   "metadata": {},
   "source": [
    "I'll start with reading data. I will unzip and convert it to .csv file\n",
    "\n",
    "You can download dataset [over here](https://disk.yandex.ru/d/fWft1-QycHvqVw). And find data description [here](https://www.moex.com/ru/orders?orderlogs)"
   ]
  },
  {
   "cell_type": "code",
   "execution_count": null,
   "metadata": {},
   "outputs": [],
   "source": [
    "# path to my folder\n",
    "zip_folder = \"C:\\\\Users\\\\user\\\\Desktop\\\\Innopolis_courses\\\\Financy_project\\\\data\\\\october2023typeB\"\n",
    "output_folder = \"C:\\\\Users\\\\user\\\\Desktop\\\\Innopolis_courses\\\\Financy_project\\\\data\\\\Unziped_Data\"\n",
    "\n",
    "# make sure that output folder exists\n",
    "os.makedirs(output_folder, exist_ok=True)\n",
    "\n",
    "# work with all zip files in folder\n",
    "for zip_filename in os.listdir(zip_folder):\n",
    "    if zip_filename.endswith(\".zip\"):\n",
    "        with ZipFile(os.path.join(zip_folder, zip_filename), 'r') as zip_ref:\n",
    "            # Extract all files to the output folder\n",
    "            zip_ref.extractall(output_folder)\n",
    "\n",
    "#.txt to .csv\n",
    "for file in os.listdir(output_folder):\n",
    "    if file.endswith(\".txt\"):\n",
    "        txt_path = os.path.join(output_folder, file)\n",
    "        csv_path = txt_path.replace(\".txt\", \".csv\")\n",
    "        os.rename(txt_path, csv_path)\n"
   ]
  },
  {
   "cell_type": "markdown",
   "metadata": {},
   "source": [
    "Now my goal is to combine all this .csv files in one dataframe. I will creat new column for each row named `date`, where I will save date of operation.<br>I will save only data with `AFKS, AFLT, AGRO, ALRS, CBOM, GAZP, GLTR, GMKN, MAGN, MGNT, SBER, SBERP, TRNFP, VKCO, VTBR` constituents cause only them I will describe in this assignment.<br> At the same time I will remove all data that include `NaN` in price column\n"
   ]
  },
  {
   "cell_type": "code",
   "execution_count": 31,
   "metadata": {},
   "outputs": [
    {
     "name": "stdout",
     "output_type": "stream",
     "text": [
      "\n",
      "\n",
      "\n",
      "Filtered and cleaned data from all files combined and saved to: combined_order_logs.csv\n",
      "Combined data loaded into DataFrame successfully.\n"
     ]
    }
   ],
   "source": [
    "output_folder = \"C:\\\\Users\\\\user\\\\Desktop\\\\Innopolis_courses\\\\Financy_project\\\\data\\\\Unziped_Data\"\n",
    "\n",
    "save_to = \"C:\\\\Users\\\\user\\\\Desktop\\\\Innopolis_courses\\\\Financy_project\\\\data\\\\combined_data\\\\combined_order_logs.csv\"\n",
    "\n",
    "# our stoks\n",
    "seccodes = [\"AFKS\", \"AFLT\", \"AGRO\", \"ALRS\", \"CBOM\", \"GAZP\", \"GLTR\", \"GMKN\", \n",
    "                  \"MAGN\", \"MGNT\", \"SBER\", \"SBERP\", \"TRNFP\", \"VKCO\", \"VTBR\"]\n",
    "\n",
    "# list of all .csv files in the folder\n",
    "files = [f for f in os.listdir(output_folder) if f.endswith('.csv')]\n",
    "\n",
    "for i, file in enumerate(files):\n",
    "    \n",
    "    date = file[-12:-4]\n",
    "    \n",
    "    # Read file in chunks\n",
    "    chunks = pd.read_csv(os.path.join(output_folder, file), chunksize=100000)\n",
    "    \n",
    "    for chunk in chunks:\n",
    "        # I'll filter based on SECCODES\n",
    "        filtered_chunk = chunk[chunk['SECCODE'].isin(seccodes)]\n",
    "        \n",
    "        # Drop rows with NaN values in any column\n",
    "        cleaned_chunk = filtered_chunk.dropna(subset=['PRICE'])\n",
    "        \n",
    "        \n",
    "        cleaned_chunk['date'] = date\n",
    "        \n",
    "        # Append or create the combined file\n",
    "        mode = 'w' if i == 0 and chunk.index[0] == 0 else 'a'  # write for the 1st chunk, append for others\n",
    "        header = i == 0 and chunk.index[0] == 0  # write header only for the 1st chunk\n",
    "        cleaned_chunk.to_csv(save_to, mode=mode, header=header, index=False)\n",
    "\n",
    "print(f\"\\n\\n\\nFiltered and cleaned data from all files combined and saved to: combined_order_logs.csv\")\n",
    "\n",
    "# Load the entire combined file into a DataFrame\n",
    "combined_data = pd.read_csv(save_to, index_col=False)\n",
    "print(\"Combined data loaded into DataFrame successfully.\")"
   ]
  },
  {
   "cell_type": "code",
   "execution_count": 4,
   "metadata": {},
   "outputs": [
    {
     "name": "stdout",
     "output_type": "stream",
     "text": [
      "Size of my dataframe: (68322575, 7)\n"
     ]
    },
    {
     "data": {
      "text/html": [
       "<div>\n",
       "<style scoped>\n",
       "    .dataframe tbody tr th:only-of-type {\n",
       "        vertical-align: middle;\n",
       "    }\n",
       "\n",
       "    .dataframe tbody tr th {\n",
       "        vertical-align: top;\n",
       "    }\n",
       "\n",
       "    .dataframe thead th {\n",
       "        text-align: right;\n",
       "    }\n",
       "</style>\n",
       "<table border=\"1\" class=\"dataframe\">\n",
       "  <thead>\n",
       "    <tr style=\"text-align: right;\">\n",
       "      <th></th>\n",
       "      <th>SECCODE</th>\n",
       "      <th>BUYSELL</th>\n",
       "      <th>TIME</th>\n",
       "      <th>TRADENO</th>\n",
       "      <th>PRICE</th>\n",
       "      <th>VOLUME</th>\n",
       "      <th>date</th>\n",
       "    </tr>\n",
       "  </thead>\n",
       "  <tbody>\n",
       "    <tr>\n",
       "      <th>0</th>\n",
       "      <td>GAZP</td>\n",
       "      <td>B</td>\n",
       "      <td>100000005313</td>\n",
       "      <td>8.521259e+09</td>\n",
       "      <td>167.83</td>\n",
       "      <td>10</td>\n",
       "      <td>20231002</td>\n",
       "    </tr>\n",
       "    <tr>\n",
       "      <th>1</th>\n",
       "      <td>GAZP</td>\n",
       "      <td>B</td>\n",
       "      <td>100000005313</td>\n",
       "      <td>NaN</td>\n",
       "      <td>179.42</td>\n",
       "      <td>10</td>\n",
       "      <td>20231002</td>\n",
       "    </tr>\n",
       "    <tr>\n",
       "      <th>2</th>\n",
       "      <td>GAZP</td>\n",
       "      <td>S</td>\n",
       "      <td>100000005313</td>\n",
       "      <td>NaN</td>\n",
       "      <td>151.00</td>\n",
       "      <td>2570</td>\n",
       "      <td>20231002</td>\n",
       "    </tr>\n",
       "    <tr>\n",
       "      <th>3</th>\n",
       "      <td>GAZP</td>\n",
       "      <td>S</td>\n",
       "      <td>100000005313</td>\n",
       "      <td>8.521259e+09</td>\n",
       "      <td>167.83</td>\n",
       "      <td>10</td>\n",
       "      <td>20231002</td>\n",
       "    </tr>\n",
       "    <tr>\n",
       "      <th>4</th>\n",
       "      <td>GAZP</td>\n",
       "      <td>B</td>\n",
       "      <td>100000005313</td>\n",
       "      <td>8.521259e+09</td>\n",
       "      <td>167.83</td>\n",
       "      <td>10</td>\n",
       "      <td>20231002</td>\n",
       "    </tr>\n",
       "    <tr>\n",
       "      <th>5</th>\n",
       "      <td>GAZP</td>\n",
       "      <td>S</td>\n",
       "      <td>100000005313</td>\n",
       "      <td>8.521259e+09</td>\n",
       "      <td>167.83</td>\n",
       "      <td>10</td>\n",
       "      <td>20231002</td>\n",
       "    </tr>\n",
       "    <tr>\n",
       "      <th>6</th>\n",
       "      <td>GAZP</td>\n",
       "      <td>B</td>\n",
       "      <td>100000005313</td>\n",
       "      <td>8.521259e+09</td>\n",
       "      <td>167.83</td>\n",
       "      <td>50</td>\n",
       "      <td>20231002</td>\n",
       "    </tr>\n",
       "    <tr>\n",
       "      <th>7</th>\n",
       "      <td>GAZP</td>\n",
       "      <td>S</td>\n",
       "      <td>100000005313</td>\n",
       "      <td>8.521259e+09</td>\n",
       "      <td>167.83</td>\n",
       "      <td>50</td>\n",
       "      <td>20231002</td>\n",
       "    </tr>\n",
       "    <tr>\n",
       "      <th>8</th>\n",
       "      <td>GAZP</td>\n",
       "      <td>B</td>\n",
       "      <td>100000005313</td>\n",
       "      <td>8.521259e+09</td>\n",
       "      <td>167.83</td>\n",
       "      <td>10</td>\n",
       "      <td>20231002</td>\n",
       "    </tr>\n",
       "    <tr>\n",
       "      <th>9</th>\n",
       "      <td>GAZP</td>\n",
       "      <td>S</td>\n",
       "      <td>100000005313</td>\n",
       "      <td>8.521259e+09</td>\n",
       "      <td>167.83</td>\n",
       "      <td>10</td>\n",
       "      <td>20231002</td>\n",
       "    </tr>\n",
       "  </tbody>\n",
       "</table>\n",
       "</div>"
      ],
      "text/plain": [
       "  SECCODE BUYSELL          TIME       TRADENO   PRICE  VOLUME      date\n",
       "0    GAZP       B  100000005313  8.521259e+09  167.83      10  20231002\n",
       "1    GAZP       B  100000005313           NaN  179.42      10  20231002\n",
       "2    GAZP       S  100000005313           NaN  151.00    2570  20231002\n",
       "3    GAZP       S  100000005313  8.521259e+09  167.83      10  20231002\n",
       "4    GAZP       B  100000005313  8.521259e+09  167.83      10  20231002\n",
       "5    GAZP       S  100000005313  8.521259e+09  167.83      10  20231002\n",
       "6    GAZP       B  100000005313  8.521259e+09  167.83      50  20231002\n",
       "7    GAZP       S  100000005313  8.521259e+09  167.83      50  20231002\n",
       "8    GAZP       B  100000005313  8.521259e+09  167.83      10  20231002\n",
       "9    GAZP       S  100000005313  8.521259e+09  167.83      10  20231002"
      ]
     },
     "execution_count": 4,
     "metadata": {},
     "output_type": "execute_result"
    }
   ],
   "source": [
    "combined_data = pd.read_csv(\"C:\\\\Users\\\\user\\\\Desktop\\\\Innopolis_courses\\\\Financy_project\\\\data\\\\combined_data\\\\combined_order_logs.csv\", index_col=False)\n",
    "print(f\"Size of my dataframe: {combined_data.shape}\")\n",
    "\n",
    "combined_data.head(10)"
   ]
  },
  {
   "cell_type": "code",
   "execution_count": 3,
   "metadata": {},
   "outputs": [
    {
     "name": "stdout",
     "output_type": "stream",
     "text": [
      "1000\n"
     ]
    }
   ],
   "source": [
    "a = str(100000005313)\n",
    "print(a[:4])"
   ]
  },
  {
   "cell_type": "markdown",
   "metadata": {},
   "source": [
    "In the end I can say that we've stored data only with constituents that we need and without any Nan values in price column and save it to `combined_order_logs.csv`. <br> Now we have: 68322575 numbers of rows in our dataframe. Lets see how we can clean our data more<br>We can remove all rows were TRADENO - Nan cause it's number of сделки"
   ]
  },
  {
   "cell_type": "code",
   "execution_count": 5,
   "metadata": {},
   "outputs": [
    {
     "name": "stdout",
     "output_type": "stream",
     "text": [
      "We've done. Size of new dataframe: (18317572, 7)\n",
      "\n",
      "We've removed 73.190% of data for TRADENO criteria\n"
     ]
    }
   ],
   "source": [
    "filtered_data = combined_data.dropna(subset=['TRADENO'])\n",
    "\n",
    "print(f\"We've done. Size of new dataframe: {filtered_data.shape}\\n\\nWe've removed {100 - ((filtered_data.shape[0] / combined_data.shape[0]) * 100):.3f}% of data for TRADENO criteria\")"
   ]
  },
  {
   "cell_type": "code",
   "execution_count": 6,
   "metadata": {},
   "outputs": [
    {
     "name": "stdout",
     "output_type": "stream",
     "text": [
      "<class 'pandas.core.frame.DataFrame'>\n",
      "Index: 18317572 entries, 0 to 68322574\n",
      "Data columns (total 7 columns):\n",
      " #   Column   Dtype  \n",
      "---  ------   -----  \n",
      " 0   SECCODE  object \n",
      " 1   BUYSELL  object \n",
      " 2   TIME     int64  \n",
      " 3   TRADENO  float64\n",
      " 4   PRICE    float64\n",
      " 5   VOLUME   int64  \n",
      " 6   date     int64  \n",
      "dtypes: float64(2), int64(3), object(2)\n",
      "memory usage: 1.1+ GB\n"
     ]
    }
   ],
   "source": [
    "filtered_data.info()"
   ]
  },
  {
   "cell_type": "markdown",
   "metadata": {},
   "source": [
    "As we've learned from pdf. We have Time in the next format: HHMMSSZZZXXX "
   ]
  },
  {
   "cell_type": "code",
   "execution_count": null,
   "metadata": {},
   "outputs": [
    {
     "name": "stderr",
     "output_type": "stream",
     "text": [
      "C:\\Users\\user\\AppData\\Local\\Temp\\ipykernel_4476\\1625286355.py:2: SettingWithCopyWarning: \n",
      "A value is trying to be set on a copy of a slice from a DataFrame.\n",
      "Try using .loc[row_indexer,col_indexer] = value instead\n",
      "\n",
      "See the caveats in the documentation: https://pandas.pydata.org/pandas-docs/stable/user_guide/indexing.html#returning-a-view-versus-a-copy\n",
      "  filtered_data['hour'] = filtered_data['TIME'].astype(str).str[:2].astype(int)\n",
      "C:\\Users\\user\\AppData\\Local\\Temp\\ipykernel_4476\\1625286355.py:3: SettingWithCopyWarning: \n",
      "A value is trying to be set on a copy of a slice from a DataFrame.\n",
      "Try using .loc[row_indexer,col_indexer] = value instead\n",
      "\n",
      "See the caveats in the documentation: https://pandas.pydata.org/pandas-docs/stable/user_guide/indexing.html#returning-a-view-versus-a-copy\n",
      "  filtered_data['minute'] = filtered_data['TIME'].astype(str).str[2:4].astype(int)\n"
     ]
    },
    {
     "name": "stdout",
     "output_type": "stream",
     "text": [
      "We've done. Size of new dataframe: (18255996, 7)\n",
      "\n",
      "We've removed 0.336% of data for time criteria\n"
     ]
    }
   ],
   "source": [
    "#create hour and minute columns from the TIME column\n",
    "filtered_data['hour'] = filtered_data['TIME'].astype(str).str[:2].astype(int) \n",
    "filtered_data['minute'] = filtered_data['TIME'].astype(str).str[2:4].astype(int)\n",
    "\n",
    "# filter 9:50 - 18:50  \n",
    "filtered_data_1 = filtered_data[\n",
    "    ((filtered_data['hour'] == 9) & (filtered_data['minute'] >= 50)) |\n",
    "    ((filtered_data['hour'] > 9) & (filtered_data['hour'] < 18)) |   \n",
    "    ((filtered_data['hour'] == 18) & (filtered_data['minute'] <= 50)) \n",
    "]\n",
    "\n",
    "# drop 'hour' and 'minute' columns\n",
    "filtered_data_1 = filtered_data_1.drop(columns=['hour', 'minute'])\n",
    "\n",
    "print(f\"We've done. Size of new dataframe: {filtered_data_1.shape}\\n\\nWe've removed {100 - ((filtered_data_1.shape[0] / filtered_data.shape[0]) * 100):.3f}% of data for time criteria\")\n"
   ]
  },
  {
   "cell_type": "markdown",
   "metadata": {},
   "source": [
    "Let's\n",
    " remove all duplicates \n"
   ]
  },
  {
   "cell_type": "code",
   "execution_count": 13,
   "metadata": {},
   "outputs": [
    {
     "name": "stdout",
     "output_type": "stream",
     "text": [
      "We've done. Size of new dataframe: (18255996, 7)\n"
     ]
    }
   ],
   "source": [
    "filtered_data_1 = filtered_data_1.drop_duplicates()\n",
    "\n",
    "print(f\"We've done. Size of new dataframe: {filtered_data_1.shape}\")\n"
   ]
  },
  {
   "cell_type": "markdown",
   "metadata": {},
   "source": [
    "As we can see, we don't have any duplicates<br>"
   ]
  },
  {
   "cell_type": "code",
   "execution_count": 22,
   "metadata": {},
   "outputs": [
    {
     "name": "stdout",
     "output_type": "stream",
     "text": [
      "SECCODE: 0\n",
      "BUYSELL: 0\n",
      "TIME: 0\n",
      "VOLUME: 0\n",
      "date: 0\n"
     ]
    }
   ],
   "source": [
    "column_names = [\"SECCODE\",\"BUYSELL\",\"TIME\",\"VOLUME\",\"date\"]\n",
    "\n",
    "for name in column_names:\n",
    "    nan_counts = filtered_data_1[name].isna().sum()\n",
    "    print(f'{name}: {nan_counts}')"
   ]
  },
  {
   "cell_type": "code",
   "execution_count": 23,
   "metadata": {},
   "outputs": [
    {
     "name": "stdout",
     "output_type": "stream",
     "text": [
      "SECCODE: 15 unique values\n",
      "BUYSELL: 2 unique values\n",
      "date: 22 unique values\n"
     ]
    }
   ],
   "source": [
    "# let me cheack how many unique values do we have\n",
    "# should be SECCODE = 15, BUYSELL = 2, date = 22\n",
    "object_features = ['SECCODE', 'BUYSELL', 'date']\n",
    "\n",
    "for column in object_features:\n",
    "    print(f\"{column}: {filtered_data_1[column].nunique()} unique values\")"
   ]
  },
  {
   "cell_type": "code",
   "execution_count": 36,
   "metadata": {},
   "outputs": [
    {
     "name": "stdout",
     "output_type": "stream",
     "text": [
      "(18255996, 7)\n",
      "We've done. Size of new dataframe: (18255996, 7)\n"
     ]
    }
   ],
   "source": [
    "# remove rows where PRICE has = 0\n",
    "preprocessed_df = filtered_data_1[filtered_data_1['PRICE'] != 0]\n",
    "print(preprocessed_df.shape)\n",
    "\n",
    "# Display the shape of the resulting DataFrame\n",
    "print(f\"We've done. Size of new dataframe: {preprocessed_df.shape}\")"
   ]
  },
  {
   "cell_type": "markdown",
   "metadata": {},
   "source": [
    "And finally we can remove duplicate trades where the same transaction is recorded twice: once as `Buy` and once as `Sell`"
   ]
  },
  {
   "cell_type": "code",
   "execution_count": 37,
   "metadata": {},
   "outputs": [
    {
     "name": "stdout",
     "output_type": "stream",
     "text": [
      "We've done. Size of new dataframe: (9127998, 7)\n",
      "\n",
      "We've removed 50.000% of data for `transaction duplicates` criteria\n"
     ]
    }
   ],
   "source": [
    "processed_df = preprocessed_df.drop_duplicates(subset=['SECCODE', 'TIME', 'TRADENO', 'PRICE', 'VOLUME', 'date'])\n",
    "\n",
    "print(f\"We've done. Size of new dataframe: {processed_df.shape}\\n\\nWe've removed {(((preprocessed_df.shape[0] - processed_df.shape[0])/ preprocessed_df.shape[0]) * 100):.3f}% of data for `transaction duplicates` criteria\")\n",
    "\n",
    "\n",
    "# Save the cleaned DataFrame to a new CSV file if needed\n",
    "processed_df.to_csv(\"C:\\\\Users\\\\user\\\\Desktop\\\\Innopolis_courses\\\\Financy_project\\\\data\\\\Processed_data\\\\processed_data.csv\", index=False)"
   ]
  },
  {
   "cell_type": "markdown",
   "metadata": {},
   "source": [
    "Now we've done with preprocessing of data. \n",
    "### Next step is to:\n",
    "1. Calculate average daily ruble volume\n",
    "2. Daily realized volatility (the square root of the sum of all squared log-differences of prices during the day)\n",
    "3. Number of transactions\n",
    "4. Median ruble size of transactions\n",
    "---"
   ]
  },
  {
   "cell_type": "code",
   "execution_count": 38,
   "metadata": {},
   "outputs": [
    {
     "name": "stderr",
     "output_type": "stream",
     "text": [
      "C:\\Users\\user\\AppData\\Local\\Temp\\ipykernel_4476\\4143237582.py:18: DeprecationWarning: DataFrameGroupBy.apply operated on the grouping columns. This behavior is deprecated, and in a future version of pandas the grouping columns will be excluded from the operation. Either pass `include_groups=False` to exclude the groupings or explicitly select the grouping columns after groupby to silence this warning.\n",
      "  buy_avg_daily_volume = grouped.apply(lambda x: (x['PRICE'] * x['VOLUME']).sum()).mean()\n",
      "C:\\Users\\user\\AppData\\Local\\Temp\\ipykernel_4476\\4143237582.py:25: DeprecationWarning: DataFrameGroupBy.apply operated on the grouping columns. This behavior is deprecated, and in a future version of pandas the grouping columns will be excluded from the operation. Either pass `include_groups=False` to exclude the groupings or explicitly select the grouping columns after groupby to silence this warning.\n",
      "  buy_volatility = grouped.apply(realized_volatility).mean()\n",
      "C:\\Users\\user\\AppData\\Local\\Temp\\ipykernel_4476\\4143237582.py:31: DeprecationWarning: DataFrameGroupBy.apply operated on the grouping columns. This behavior is deprecated, and in a future version of pandas the grouping columns will be excluded from the operation. Either pass `include_groups=False` to exclude the groupings or explicitly select the grouping columns after groupby to silence this warning.\n",
      "  buy_median_ruble_size = grouped.apply(lambda x: (x['PRICE'] * x['VOLUME']).median()).median()\n",
      "C:\\Users\\user\\AppData\\Local\\Temp\\ipykernel_4476\\4143237582.py:18: DeprecationWarning: DataFrameGroupBy.apply operated on the grouping columns. This behavior is deprecated, and in a future version of pandas the grouping columns will be excluded from the operation. Either pass `include_groups=False` to exclude the groupings or explicitly select the grouping columns after groupby to silence this warning.\n",
      "  buy_avg_daily_volume = grouped.apply(lambda x: (x['PRICE'] * x['VOLUME']).sum()).mean()\n",
      "C:\\Users\\user\\AppData\\Local\\Temp\\ipykernel_4476\\4143237582.py:25: DeprecationWarning: DataFrameGroupBy.apply operated on the grouping columns. This behavior is deprecated, and in a future version of pandas the grouping columns will be excluded from the operation. Either pass `include_groups=False` to exclude the groupings or explicitly select the grouping columns after groupby to silence this warning.\n",
      "  buy_volatility = grouped.apply(realized_volatility).mean()\n",
      "C:\\Users\\user\\AppData\\Local\\Temp\\ipykernel_4476\\4143237582.py:31: DeprecationWarning: DataFrameGroupBy.apply operated on the grouping columns. This behavior is deprecated, and in a future version of pandas the grouping columns will be excluded from the operation. Either pass `include_groups=False` to exclude the groupings or explicitly select the grouping columns after groupby to silence this warning.\n",
      "  buy_median_ruble_size = grouped.apply(lambda x: (x['PRICE'] * x['VOLUME']).median()).median()\n",
      "C:\\Users\\user\\AppData\\Local\\Temp\\ipykernel_4476\\4143237582.py:18: DeprecationWarning: DataFrameGroupBy.apply operated on the grouping columns. This behavior is deprecated, and in a future version of pandas the grouping columns will be excluded from the operation. Either pass `include_groups=False` to exclude the groupings or explicitly select the grouping columns after groupby to silence this warning.\n",
      "  buy_avg_daily_volume = grouped.apply(lambda x: (x['PRICE'] * x['VOLUME']).sum()).mean()\n",
      "C:\\Users\\user\\AppData\\Local\\Temp\\ipykernel_4476\\4143237582.py:25: DeprecationWarning: DataFrameGroupBy.apply operated on the grouping columns. This behavior is deprecated, and in a future version of pandas the grouping columns will be excluded from the operation. Either pass `include_groups=False` to exclude the groupings or explicitly select the grouping columns after groupby to silence this warning.\n",
      "  buy_volatility = grouped.apply(realized_volatility).mean()\n",
      "C:\\Users\\user\\AppData\\Local\\Temp\\ipykernel_4476\\4143237582.py:31: DeprecationWarning: DataFrameGroupBy.apply operated on the grouping columns. This behavior is deprecated, and in a future version of pandas the grouping columns will be excluded from the operation. Either pass `include_groups=False` to exclude the groupings or explicitly select the grouping columns after groupby to silence this warning.\n",
      "  buy_median_ruble_size = grouped.apply(lambda x: (x['PRICE'] * x['VOLUME']).median()).median()\n",
      "C:\\Users\\user\\AppData\\Local\\Temp\\ipykernel_4476\\4143237582.py:18: DeprecationWarning: DataFrameGroupBy.apply operated on the grouping columns. This behavior is deprecated, and in a future version of pandas the grouping columns will be excluded from the operation. Either pass `include_groups=False` to exclude the groupings or explicitly select the grouping columns after groupby to silence this warning.\n",
      "  buy_avg_daily_volume = grouped.apply(lambda x: (x['PRICE'] * x['VOLUME']).sum()).mean()\n",
      "C:\\Users\\user\\AppData\\Local\\Temp\\ipykernel_4476\\4143237582.py:25: DeprecationWarning: DataFrameGroupBy.apply operated on the grouping columns. This behavior is deprecated, and in a future version of pandas the grouping columns will be excluded from the operation. Either pass `include_groups=False` to exclude the groupings or explicitly select the grouping columns after groupby to silence this warning.\n",
      "  buy_volatility = grouped.apply(realized_volatility).mean()\n",
      "C:\\Users\\user\\AppData\\Local\\Temp\\ipykernel_4476\\4143237582.py:31: DeprecationWarning: DataFrameGroupBy.apply operated on the grouping columns. This behavior is deprecated, and in a future version of pandas the grouping columns will be excluded from the operation. Either pass `include_groups=False` to exclude the groupings or explicitly select the grouping columns after groupby to silence this warning.\n",
      "  buy_median_ruble_size = grouped.apply(lambda x: (x['PRICE'] * x['VOLUME']).median()).median()\n",
      "C:\\Users\\user\\AppData\\Local\\Temp\\ipykernel_4476\\4143237582.py:18: DeprecationWarning: DataFrameGroupBy.apply operated on the grouping columns. This behavior is deprecated, and in a future version of pandas the grouping columns will be excluded from the operation. Either pass `include_groups=False` to exclude the groupings or explicitly select the grouping columns after groupby to silence this warning.\n",
      "  buy_avg_daily_volume = grouped.apply(lambda x: (x['PRICE'] * x['VOLUME']).sum()).mean()\n",
      "C:\\Users\\user\\AppData\\Local\\Temp\\ipykernel_4476\\4143237582.py:25: DeprecationWarning: DataFrameGroupBy.apply operated on the grouping columns. This behavior is deprecated, and in a future version of pandas the grouping columns will be excluded from the operation. Either pass `include_groups=False` to exclude the groupings or explicitly select the grouping columns after groupby to silence this warning.\n",
      "  buy_volatility = grouped.apply(realized_volatility).mean()\n",
      "C:\\Users\\user\\AppData\\Local\\Temp\\ipykernel_4476\\4143237582.py:31: DeprecationWarning: DataFrameGroupBy.apply operated on the grouping columns. This behavior is deprecated, and in a future version of pandas the grouping columns will be excluded from the operation. Either pass `include_groups=False` to exclude the groupings or explicitly select the grouping columns after groupby to silence this warning.\n",
      "  buy_median_ruble_size = grouped.apply(lambda x: (x['PRICE'] * x['VOLUME']).median()).median()\n",
      "C:\\Users\\user\\AppData\\Local\\Temp\\ipykernel_4476\\4143237582.py:18: DeprecationWarning: DataFrameGroupBy.apply operated on the grouping columns. This behavior is deprecated, and in a future version of pandas the grouping columns will be excluded from the operation. Either pass `include_groups=False` to exclude the groupings or explicitly select the grouping columns after groupby to silence this warning.\n",
      "  buy_avg_daily_volume = grouped.apply(lambda x: (x['PRICE'] * x['VOLUME']).sum()).mean()\n",
      "C:\\Users\\user\\AppData\\Local\\Temp\\ipykernel_4476\\4143237582.py:25: DeprecationWarning: DataFrameGroupBy.apply operated on the grouping columns. This behavior is deprecated, and in a future version of pandas the grouping columns will be excluded from the operation. Either pass `include_groups=False` to exclude the groupings or explicitly select the grouping columns after groupby to silence this warning.\n",
      "  buy_volatility = grouped.apply(realized_volatility).mean()\n",
      "C:\\Users\\user\\AppData\\Local\\Temp\\ipykernel_4476\\4143237582.py:31: DeprecationWarning: DataFrameGroupBy.apply operated on the grouping columns. This behavior is deprecated, and in a future version of pandas the grouping columns will be excluded from the operation. Either pass `include_groups=False` to exclude the groupings or explicitly select the grouping columns after groupby to silence this warning.\n",
      "  buy_median_ruble_size = grouped.apply(lambda x: (x['PRICE'] * x['VOLUME']).median()).median()\n",
      "C:\\Users\\user\\AppData\\Local\\Temp\\ipykernel_4476\\4143237582.py:18: DeprecationWarning: DataFrameGroupBy.apply operated on the grouping columns. This behavior is deprecated, and in a future version of pandas the grouping columns will be excluded from the operation. Either pass `include_groups=False` to exclude the groupings or explicitly select the grouping columns after groupby to silence this warning.\n",
      "  buy_avg_daily_volume = grouped.apply(lambda x: (x['PRICE'] * x['VOLUME']).sum()).mean()\n",
      "C:\\Users\\user\\AppData\\Local\\Temp\\ipykernel_4476\\4143237582.py:25: DeprecationWarning: DataFrameGroupBy.apply operated on the grouping columns. This behavior is deprecated, and in a future version of pandas the grouping columns will be excluded from the operation. Either pass `include_groups=False` to exclude the groupings or explicitly select the grouping columns after groupby to silence this warning.\n",
      "  buy_volatility = grouped.apply(realized_volatility).mean()\n",
      "C:\\Users\\user\\AppData\\Local\\Temp\\ipykernel_4476\\4143237582.py:31: DeprecationWarning: DataFrameGroupBy.apply operated on the grouping columns. This behavior is deprecated, and in a future version of pandas the grouping columns will be excluded from the operation. Either pass `include_groups=False` to exclude the groupings or explicitly select the grouping columns after groupby to silence this warning.\n",
      "  buy_median_ruble_size = grouped.apply(lambda x: (x['PRICE'] * x['VOLUME']).median()).median()\n",
      "C:\\Users\\user\\AppData\\Local\\Temp\\ipykernel_4476\\4143237582.py:18: DeprecationWarning: DataFrameGroupBy.apply operated on the grouping columns. This behavior is deprecated, and in a future version of pandas the grouping columns will be excluded from the operation. Either pass `include_groups=False` to exclude the groupings or explicitly select the grouping columns after groupby to silence this warning.\n",
      "  buy_avg_daily_volume = grouped.apply(lambda x: (x['PRICE'] * x['VOLUME']).sum()).mean()\n",
      "C:\\Users\\user\\AppData\\Local\\Temp\\ipykernel_4476\\4143237582.py:25: DeprecationWarning: DataFrameGroupBy.apply operated on the grouping columns. This behavior is deprecated, and in a future version of pandas the grouping columns will be excluded from the operation. Either pass `include_groups=False` to exclude the groupings or explicitly select the grouping columns after groupby to silence this warning.\n",
      "  buy_volatility = grouped.apply(realized_volatility).mean()\n",
      "C:\\Users\\user\\AppData\\Local\\Temp\\ipykernel_4476\\4143237582.py:31: DeprecationWarning: DataFrameGroupBy.apply operated on the grouping columns. This behavior is deprecated, and in a future version of pandas the grouping columns will be excluded from the operation. Either pass `include_groups=False` to exclude the groupings or explicitly select the grouping columns after groupby to silence this warning.\n",
      "  buy_median_ruble_size = grouped.apply(lambda x: (x['PRICE'] * x['VOLUME']).median()).median()\n",
      "C:\\Users\\user\\AppData\\Local\\Temp\\ipykernel_4476\\4143237582.py:18: DeprecationWarning: DataFrameGroupBy.apply operated on the grouping columns. This behavior is deprecated, and in a future version of pandas the grouping columns will be excluded from the operation. Either pass `include_groups=False` to exclude the groupings or explicitly select the grouping columns after groupby to silence this warning.\n",
      "  buy_avg_daily_volume = grouped.apply(lambda x: (x['PRICE'] * x['VOLUME']).sum()).mean()\n",
      "C:\\Users\\user\\AppData\\Local\\Temp\\ipykernel_4476\\4143237582.py:25: DeprecationWarning: DataFrameGroupBy.apply operated on the grouping columns. This behavior is deprecated, and in a future version of pandas the grouping columns will be excluded from the operation. Either pass `include_groups=False` to exclude the groupings or explicitly select the grouping columns after groupby to silence this warning.\n",
      "  buy_volatility = grouped.apply(realized_volatility).mean()\n",
      "C:\\Users\\user\\AppData\\Local\\Temp\\ipykernel_4476\\4143237582.py:31: DeprecationWarning: DataFrameGroupBy.apply operated on the grouping columns. This behavior is deprecated, and in a future version of pandas the grouping columns will be excluded from the operation. Either pass `include_groups=False` to exclude the groupings or explicitly select the grouping columns after groupby to silence this warning.\n",
      "  buy_median_ruble_size = grouped.apply(lambda x: (x['PRICE'] * x['VOLUME']).median()).median()\n",
      "C:\\Users\\user\\AppData\\Local\\Temp\\ipykernel_4476\\4143237582.py:18: DeprecationWarning: DataFrameGroupBy.apply operated on the grouping columns. This behavior is deprecated, and in a future version of pandas the grouping columns will be excluded from the operation. Either pass `include_groups=False` to exclude the groupings or explicitly select the grouping columns after groupby to silence this warning.\n",
      "  buy_avg_daily_volume = grouped.apply(lambda x: (x['PRICE'] * x['VOLUME']).sum()).mean()\n",
      "C:\\Users\\user\\AppData\\Local\\Temp\\ipykernel_4476\\4143237582.py:25: DeprecationWarning: DataFrameGroupBy.apply operated on the grouping columns. This behavior is deprecated, and in a future version of pandas the grouping columns will be excluded from the operation. Either pass `include_groups=False` to exclude the groupings or explicitly select the grouping columns after groupby to silence this warning.\n",
      "  buy_volatility = grouped.apply(realized_volatility).mean()\n",
      "C:\\Users\\user\\AppData\\Local\\Temp\\ipykernel_4476\\4143237582.py:31: DeprecationWarning: DataFrameGroupBy.apply operated on the grouping columns. This behavior is deprecated, and in a future version of pandas the grouping columns will be excluded from the operation. Either pass `include_groups=False` to exclude the groupings or explicitly select the grouping columns after groupby to silence this warning.\n",
      "  buy_median_ruble_size = grouped.apply(lambda x: (x['PRICE'] * x['VOLUME']).median()).median()\n",
      "C:\\Users\\user\\AppData\\Local\\Temp\\ipykernel_4476\\4143237582.py:18: DeprecationWarning: DataFrameGroupBy.apply operated on the grouping columns. This behavior is deprecated, and in a future version of pandas the grouping columns will be excluded from the operation. Either pass `include_groups=False` to exclude the groupings or explicitly select the grouping columns after groupby to silence this warning.\n",
      "  buy_avg_daily_volume = grouped.apply(lambda x: (x['PRICE'] * x['VOLUME']).sum()).mean()\n",
      "C:\\Users\\user\\AppData\\Local\\Temp\\ipykernel_4476\\4143237582.py:25: DeprecationWarning: DataFrameGroupBy.apply operated on the grouping columns. This behavior is deprecated, and in a future version of pandas the grouping columns will be excluded from the operation. Either pass `include_groups=False` to exclude the groupings or explicitly select the grouping columns after groupby to silence this warning.\n",
      "  buy_volatility = grouped.apply(realized_volatility).mean()\n",
      "C:\\Users\\user\\AppData\\Local\\Temp\\ipykernel_4476\\4143237582.py:31: DeprecationWarning: DataFrameGroupBy.apply operated on the grouping columns. This behavior is deprecated, and in a future version of pandas the grouping columns will be excluded from the operation. Either pass `include_groups=False` to exclude the groupings or explicitly select the grouping columns after groupby to silence this warning.\n",
      "  buy_median_ruble_size = grouped.apply(lambda x: (x['PRICE'] * x['VOLUME']).median()).median()\n",
      "C:\\Users\\user\\AppData\\Local\\Temp\\ipykernel_4476\\4143237582.py:18: DeprecationWarning: DataFrameGroupBy.apply operated on the grouping columns. This behavior is deprecated, and in a future version of pandas the grouping columns will be excluded from the operation. Either pass `include_groups=False` to exclude the groupings or explicitly select the grouping columns after groupby to silence this warning.\n",
      "  buy_avg_daily_volume = grouped.apply(lambda x: (x['PRICE'] * x['VOLUME']).sum()).mean()\n",
      "C:\\Users\\user\\AppData\\Local\\Temp\\ipykernel_4476\\4143237582.py:25: DeprecationWarning: DataFrameGroupBy.apply operated on the grouping columns. This behavior is deprecated, and in a future version of pandas the grouping columns will be excluded from the operation. Either pass `include_groups=False` to exclude the groupings or explicitly select the grouping columns after groupby to silence this warning.\n",
      "  buy_volatility = grouped.apply(realized_volatility).mean()\n",
      "C:\\Users\\user\\AppData\\Local\\Temp\\ipykernel_4476\\4143237582.py:31: DeprecationWarning: DataFrameGroupBy.apply operated on the grouping columns. This behavior is deprecated, and in a future version of pandas the grouping columns will be excluded from the operation. Either pass `include_groups=False` to exclude the groupings or explicitly select the grouping columns after groupby to silence this warning.\n",
      "  buy_median_ruble_size = grouped.apply(lambda x: (x['PRICE'] * x['VOLUME']).median()).median()\n",
      "C:\\Users\\user\\AppData\\Local\\Temp\\ipykernel_4476\\4143237582.py:18: DeprecationWarning: DataFrameGroupBy.apply operated on the grouping columns. This behavior is deprecated, and in a future version of pandas the grouping columns will be excluded from the operation. Either pass `include_groups=False` to exclude the groupings or explicitly select the grouping columns after groupby to silence this warning.\n",
      "  buy_avg_daily_volume = grouped.apply(lambda x: (x['PRICE'] * x['VOLUME']).sum()).mean()\n",
      "C:\\Users\\user\\AppData\\Local\\Temp\\ipykernel_4476\\4143237582.py:25: DeprecationWarning: DataFrameGroupBy.apply operated on the grouping columns. This behavior is deprecated, and in a future version of pandas the grouping columns will be excluded from the operation. Either pass `include_groups=False` to exclude the groupings or explicitly select the grouping columns after groupby to silence this warning.\n",
      "  buy_volatility = grouped.apply(realized_volatility).mean()\n",
      "C:\\Users\\user\\AppData\\Local\\Temp\\ipykernel_4476\\4143237582.py:31: DeprecationWarning: DataFrameGroupBy.apply operated on the grouping columns. This behavior is deprecated, and in a future version of pandas the grouping columns will be excluded from the operation. Either pass `include_groups=False` to exclude the groupings or explicitly select the grouping columns after groupby to silence this warning.\n",
      "  buy_median_ruble_size = grouped.apply(lambda x: (x['PRICE'] * x['VOLUME']).median()).median()\n",
      "C:\\Users\\user\\AppData\\Local\\Temp\\ipykernel_4476\\4143237582.py:18: DeprecationWarning: DataFrameGroupBy.apply operated on the grouping columns. This behavior is deprecated, and in a future version of pandas the grouping columns will be excluded from the operation. Either pass `include_groups=False` to exclude the groupings or explicitly select the grouping columns after groupby to silence this warning.\n",
      "  buy_avg_daily_volume = grouped.apply(lambda x: (x['PRICE'] * x['VOLUME']).sum()).mean()\n",
      "C:\\Users\\user\\AppData\\Local\\Temp\\ipykernel_4476\\4143237582.py:25: DeprecationWarning: DataFrameGroupBy.apply operated on the grouping columns. This behavior is deprecated, and in a future version of pandas the grouping columns will be excluded from the operation. Either pass `include_groups=False` to exclude the groupings or explicitly select the grouping columns after groupby to silence this warning.\n",
      "  buy_volatility = grouped.apply(realized_volatility).mean()\n",
      "C:\\Users\\user\\AppData\\Local\\Temp\\ipykernel_4476\\4143237582.py:31: DeprecationWarning: DataFrameGroupBy.apply operated on the grouping columns. This behavior is deprecated, and in a future version of pandas the grouping columns will be excluded from the operation. Either pass `include_groups=False` to exclude the groupings or explicitly select the grouping columns after groupby to silence this warning.\n",
      "  buy_median_ruble_size = grouped.apply(lambda x: (x['PRICE'] * x['VOLUME']).median()).median()\n"
     ]
    },
    {
     "name": "stdout",
     "output_type": "stream",
     "text": [
      "       Average Daily Volume  Daily Volatility  Average Transactions  \\\n",
      "GAZP           3.527903e+09          0.015113          57816.727273   \n",
      "AGRO           1.328405e+09          0.042442          31938.409091   \n",
      "ALRS           1.155141e+09          0.027572          35250.636364   \n",
      "AFLT           2.762012e+08          0.025703          10220.863636   \n",
      "SBER           8.199113e+09          0.012620          87203.000000   \n",
      "AFKS           3.307517e+08          0.016860           9987.500000   \n",
      "GMKN           1.511901e+09          0.016184          16858.772727   \n",
      "MGNT           1.749113e+09          0.019400          22706.681818   \n",
      "MAGN           5.997891e+08          0.021033          22077.863636   \n",
      "SBERP          6.654762e+08          0.013609          12259.090909   \n",
      "VTBR           2.038567e+09          0.031034          56356.000000   \n",
      "TRNFP          1.685541e+09          0.016451           5432.636364   \n",
      "GLTR           1.252516e+08          0.025501           9372.409091   \n",
      "CBOM           1.530522e+08          0.019212           6468.727273   \n",
      "VKCO           3.479165e+09          0.101175          85139.125000   \n",
      "\n",
      "       Median Ruble Size  \n",
      "GAZP           10163.400  \n",
      "AGRO            7704.600  \n",
      "ALRS            4455.600  \n",
      "AFLT            2032.750  \n",
      "SBER           13006.750  \n",
      "AFKS            6985.600  \n",
      "GMKN           32600.000  \n",
      "MGNT           22217.000  \n",
      "MAGN            2656.125  \n",
      "SBERP          10862.000  \n",
      "VTBR            2483.250  \n",
      "TRNFP         143975.000  \n",
      "GLTR            2559.200  \n",
      "CBOM           11308.800  \n",
      "VKCO            4571.150  \n"
     ]
    },
    {
     "name": "stderr",
     "output_type": "stream",
     "text": [
      "C:\\Users\\user\\AppData\\Local\\Temp\\ipykernel_4476\\4143237582.py:18: DeprecationWarning: DataFrameGroupBy.apply operated on the grouping columns. This behavior is deprecated, and in a future version of pandas the grouping columns will be excluded from the operation. Either pass `include_groups=False` to exclude the groupings or explicitly select the grouping columns after groupby to silence this warning.\n",
      "  buy_avg_daily_volume = grouped.apply(lambda x: (x['PRICE'] * x['VOLUME']).sum()).mean()\n",
      "C:\\Users\\user\\AppData\\Local\\Temp\\ipykernel_4476\\4143237582.py:25: DeprecationWarning: DataFrameGroupBy.apply operated on the grouping columns. This behavior is deprecated, and in a future version of pandas the grouping columns will be excluded from the operation. Either pass `include_groups=False` to exclude the groupings or explicitly select the grouping columns after groupby to silence this warning.\n",
      "  buy_volatility = grouped.apply(realized_volatility).mean()\n",
      "C:\\Users\\user\\AppData\\Local\\Temp\\ipykernel_4476\\4143237582.py:31: DeprecationWarning: DataFrameGroupBy.apply operated on the grouping columns. This behavior is deprecated, and in a future version of pandas the grouping columns will be excluded from the operation. Either pass `include_groups=False` to exclude the groupings or explicitly select the grouping columns after groupby to silence this warning.\n",
      "  buy_median_ruble_size = grouped.apply(lambda x: (x['PRICE'] * x['VOLUME']).median()).median()\n"
     ]
    }
   ],
   "source": [
    "data = pd.read_csv(\"C:\\\\Users\\\\user\\\\Desktop\\\\Innopolis_courses\\\\Financy_project\\\\data\\\\Processed_data\\\\processed_data.csv\")\n",
    "\n",
    "# it's our seccode\n",
    "seccodes = data['SECCODE'].unique()\n",
    "\n",
    "# dictionary to store results\n",
    "results = {}\n",
    "\n",
    "# Loop through each SECCODE\n",
    "for code in seccodes:\n",
    "    # filter data\n",
    "    stock_data = data[data['SECCODE'] == code]\n",
    "    \n",
    "    # group by date for daily calculations\n",
    "    grouped = stock_data.groupby('date')\n",
    "    \n",
    "    # average daily ruble volume\n",
    "    buy_avg_daily_volume = grouped.apply(lambda x: (x['PRICE'] * x['VOLUME']).sum()).mean()\n",
    "    \n",
    "    # daily realized volatility\n",
    "    def realized_volatility(group):\n",
    "        log_returns = np.log(group['PRICE']).diff()\n",
    "        return np.sqrt((log_returns ** 2).sum())\n",
    "    \n",
    "    buy_volatility = grouped.apply(realized_volatility).mean()\n",
    "    \n",
    "    # number of transactions\n",
    "    buy_transactions = grouped.size().mean()\n",
    "    \n",
    "    # median ruble size of transactions\n",
    "    buy_median_ruble_size = grouped.apply(lambda x: (x['PRICE'] * x['VOLUME']).median()).median()\n",
    "    \n",
    "    # Store results for this SECCODE\n",
    "    results[code] = {\n",
    "        \"Average Daily Volume\": buy_avg_daily_volume,\n",
    "        \"Daily Volatility\": buy_volatility,\n",
    "        \"Average Transactions\": buy_transactions,\n",
    "        \"Median Ruble Size\": buy_median_ruble_size,\n",
    "    }\n",
    "\n",
    "results_df = pd.DataFrame.from_dict(results, orient='index')\n",
    "print(results_df)\n",
    "\n",
    "# Save results to a CSV file\n",
    "results_df.to_csv(\"4th_task.csv\")\n"
   ]
  },
  {
   "cell_type": "markdown",
   "metadata": {},
   "source": [
    "We've done with this task. Result u can see in `4th_task.csv`. Also u can find official results [over here](https://www.moex.com/ru/marketdata/#/mode=groups&group=4&collection=160&boardgroup=57&data_type=history&date=2023-10-03&category=main)\n"
   ]
  },
  {
   "cell_type": "markdown",
   "metadata": {},
   "source": [
    "Answer the following questions:\n",
    "1. Which stock was the most/least volatile during the period under investigation?\n",
    "2. Which stock had the largest/lowest share volume? ruble volume?\n",
    "3. Which stock had the largest/lowest number of transactions?\n",
    "4. Which stock had the largest/lowest number of quotes changes?\n",
    "5. On which day of the week stocks had the largest/lowest volume in the sample?\n",
    "6. Which stock had the highest/lowest ruble bid-ask spread? percentage bid-ask\n",
    "spread?"
   ]
  },
  {
   "cell_type": "code",
   "execution_count": 4,
   "metadata": {},
   "outputs": [
    {
     "name": "stdout",
     "output_type": "stream",
     "text": [
      "1. Most volatile stock: VKCO, Least volatile stock: SBER\n",
      "2. Largest share volume: SBER, Lowest share volume: GLTR\n",
      "   Largest ruble volume: SBER, Lowest ruble volume: GLTR\n",
      "3. Largest transactions: SBER, Lowest transactions: TRNFP\n",
      "4. Largest quote changes: AGRO, Lowest quote changes: TRNFP\n",
      "5. Day with largest volume: Monday, Day with lowest volume: Thursday\n",
      "6. Highest ruble spread: TRNFP, Lowest ruble spread: VTBR\n",
      "   Highest percentage spread: AGRO, Lowest percentage spread: MAGN\n"
     ]
    }
   ],
   "source": [
    "metrics = pd.read_csv(\"4th_task.csv\", index_col=0)\n",
    "data = pd.read_csv(\"C:\\\\Users\\\\user\\\\Desktop\\\\Innopolis_courses\\\\Financy_project\\\\data\\\\Processed_data\\\\processed_data.csv\") \n",
    "\n",
    "# Add weekday column for weekday calculations\n",
    "data['weekday'] = pd.to_datetime(data['date'], format='%Y%m%d').dt.day_name()\n",
    "\n",
    "most_volatile = metrics['Daily Volatility'].idxmax()\n",
    "least_volatile = metrics['Daily Volatility'].idxmin()\n",
    "\n",
    "largest_share_volume = metrics['Average Daily Volume'].idxmax()\n",
    "lowest_share_volume = metrics['Average Daily Volume'].idxmin()\n",
    "\n",
    "# Calculate ruble volume\n",
    "data['ruble_volume'] = data['PRICE'] * data['VOLUME']\n",
    "ruble_volume = data.groupby('SECCODE')['ruble_volume'].sum()\n",
    "largest_ruble_volume = ruble_volume.idxmax()\n",
    "lowest_ruble_volume = ruble_volume.idxmin()\n",
    "\n",
    "\n",
    "largest_transactions = metrics['Average Transactions'].idxmax()\n",
    "lowest_transactions = metrics['Average Transactions'].idxmin()\n",
    "\n",
    "\n",
    "quote_changes = data.groupby('SECCODE')['PRICE'].nunique()\n",
    "largest_quote_changes = quote_changes.idxmax()\n",
    "lowest_quote_changes = quote_changes.idxmin()\n",
    "\n",
    "\n",
    "weekday_ruble_volume = data.groupby('weekday')['ruble_volume'].sum()\n",
    "largest_volume_day = weekday_ruble_volume.idxmax()\n",
    "lowest_volume_day = weekday_ruble_volume.idxmin()\n",
    "\n",
    " \n",
    "data['hour'] = data['TIME'].astype(str).str[:2]\n",
    "data['minute'] = data['TIME'].astype(str).str[2:4]\n",
    "\n",
    "# combine h and min for grouping\n",
    "data['minute'] = data['hour'] + ':' + data['minute']\n",
    "\n",
    "# group data by SECCODE and min\n",
    "minute_grouped = data.groupby(['SECCODE', 'minute'])\n",
    "\n",
    "# approximate ASK and BID\n",
    "# here i took min and max but it's better to take a mean (cause if min max мы получаем отрицательный сприд постоянно)\n",
    "ask_prices = minute_grouped['PRICE'].max()\n",
    "bid_prices = minute_grouped['PRICE'].min()\n",
    "\n",
    "# merge ASK and BID back into the original DataFrame\n",
    "data = data.merge(ask_prices.rename('ASK'), on=['SECCODE', 'minute'])\n",
    "data = data.merge(bid_prices.rename('BID'), on=['SECCODE', 'minute'])\n",
    "\n",
    "# Calculate ruble and percentage spreads\n",
    "data['ruble_spread'] = data['ASK'] - data['BID']\n",
    "data['percentage_spread'] = (data['ASK'] - data['BID']) / ((data['ASK'] + data['BID']) / 2) * 100\n",
    "\n",
    "# Calculate average spreads for each SECCODE\n",
    "spread_grouped = data.groupby('SECCODE')\n",
    "highest_ruble_spread = spread_grouped['ruble_spread'].mean().idxmax()\n",
    "lowest_ruble_spread = spread_grouped['ruble_spread'].mean().idxmin()\n",
    "highest_percentage_spread = spread_grouped['percentage_spread'].mean().idxmax()\n",
    "lowest_percentage_spread = spread_grouped['percentage_spread'].mean().idxmin()\n",
    "\n",
    "print(f\"1. Most volatile stock: {most_volatile}, Least volatile stock: {least_volatile}\")\n",
    "print(f\"2. Largest share volume: {largest_share_volume}, Lowest share volume: {lowest_share_volume}\")\n",
    "print(f\"   Largest ruble volume: {largest_ruble_volume}, Lowest ruble volume: {lowest_ruble_volume}\")\n",
    "print(f\"3. Largest transactions: {largest_transactions}, Lowest transactions: {lowest_transactions}\")\n",
    "print(f\"4. Largest quote changes: {largest_quote_changes}, Lowest quote changes: {lowest_quote_changes}\")\n",
    "print(f\"5. Day with largest volume: {largest_volume_day}, Day with lowest volume: {lowest_volume_day}\")\n",
    "print(f\"6. Highest ruble spread: {highest_ruble_spread}, Lowest ruble spread: {lowest_ruble_spread}\")\n",
    "print(f\"   Highest percentage spread: {highest_percentage_spread}, Lowest percentage spread: {lowest_percentage_spread}\")\n"
   ]
  },
  {
   "cell_type": "markdown",
   "metadata": {},
   "source": [
    "## Next task:<br>  \n",
    "Examine empirically what is the relationship between the number of trades and the\n",
    "number of quotes changes? For example, plot the log of the number of trades against\n",
    "the log of the number of quotes changes calculated for each stock and each trading day.\n"
   ]
  },
  {
   "cell_type": "code",
   "execution_count": 12,
   "metadata": {},
   "outputs": [
    {
     "data": {
      "image/png": "[encoded data removed]",
      "text/plain": [
       "<Figure size 1000x600 with 1 Axes>"
      ]
     },
     "metadata": {},
     "output_type": "display_data"
    },
    {
     "name": "stdout",
     "output_type": "stream",
     "text": [
      "Correlation between log(Number of Trades) and log(Number of Quote Changes): 0.473\n"
     ]
    }
   ],
   "source": [
    "path = \"C:\\\\Users\\\\user\\\\Desktop\\\\Innopolis_courses\\\\Financy_project\\\\data\\\\Processed_data\\\\processed_data.csv\"\n",
    "data = pd.read_csv(path)\n",
    "\n",
    "# Group by SECCODE and date to calculate metrics\n",
    "grouped = data.groupby(['SECCODE', 'date'])\n",
    "\n",
    "# Calculate the number of trades and number of quote changes for each stock and day\n",
    "metrics = grouped.agg(\n",
    "    num_trades=('TRADENO', 'count'),# total rows per group\n",
    "    num_quote_changes=('PRICE', 'nunique')  # unique price changes\n",
    ").reset_index()\n",
    "\n",
    "# Add log-transformed columns\n",
    "metrics['log_num_trades'] = np.log(metrics['num_trades'])\n",
    "metrics['log_num_quote_changes'] = np.log(metrics['num_quote_changes'])\n",
    "\n",
    "# Plot the relationship\n",
    "plt.figure(figsize=(10, 6))\n",
    "plt.scatter(metrics['log_num_trades'], metrics['log_num_quote_changes'], alpha=0.9, edgecolor='r')\n",
    "plt.title(\"Log(Number of Trades) vs Log(Number of Quote Changes)\", fontsize=7)\n",
    "plt.xlabel(\"Log(Number of Trades)\", fontsize=7)\n",
    "plt.ylabel(\"Log(Number of Quote Changes)\", fontsize=7)\n",
    "plt.grid(alpha=0.3)\n",
    "plt.savefig('C:\\\\Users\\\\user\\\\Desktop\\\\Innopolis_courses\\\\Financy_project\\\\Plots\\\\result_1.png')\n",
    "plt.show()\n",
    "\n",
    "\n",
    "# calculate correlation between log metrics\n",
    "correlation = metrics[['log_num_trades', 'log_num_quote_changes']].corr().iloc[0, 1]\n",
    "print(f\"Correlation between log(Number of Trades) and log(Number of Quote Changes): {correlation:.3f}\")\n"
   ]
  },
  {
   "cell_type": "markdown",
   "metadata": {},
   "source": [
    "### Next task \n",
    "Trading volume often exhibits specific intraday patterns. Examine intraday patterns in\n",
    "volume by calculating the average ruble volume executed during each 30-min period\n",
    "between 9:50 and 18:50; Stocks differ a lot by volume. To\n",
    "aggregate data across 15 stocks into one chart, you may plot, for example, the typical\n",
    "fraction of daily volume executed during each thirty-minute interval (and then\n",
    "averaged across all stocks).\n"
   ]
  },
  {
   "cell_type": "code",
   "execution_count": 15,
   "metadata": {},
   "outputs": [
    {
     "data": {
      "image/png": "[encoded data removed]",
      "text/plain": [
       "<Figure size 1200x600 with 1 Axes>"
      ]
     },
     "metadata": {},
     "output_type": "display_data"
    }
   ],
   "source": [
    "path = \"C:\\\\Users\\\\user\\\\Desktop\\\\Innopolis_courses\\\\Financy_project\\\\data\\\\Processed_data\\\\processed_data.csv\"\n",
    "data = pd.read_csv(path)\n",
    "\n",
    "data['hour'] = data['TIME'].astype(str).str[:2]  # First 2 characters for hour\n",
    "data['minute'] = data['TIME'].astype(str).str[2:4]  # Next 2 characters for minute\n",
    "\n",
    "# Combine hour and minute for 30-minute intervals\n",
    "data['interval'] = data['hour'] + ':' + data['minute']\n",
    "\n",
    "# Define 30-minute intervals from 9:50 to 18:50\n",
    "intervals = ['09:50', '10:00', '10:30', '11:00', '11:30', '12:00', '12:30', \n",
    "             '13:00', '13:30', '14:00', '14:30', '15:00', '15:30', \n",
    "             '16:00', '16:30', '17:00', '17:30', '18:00', '18:30', '18:50']\n",
    "\n",
    "# Filter the data between 9:50 and 18:50 (excluding later intervals)\n",
    "data = data[data['interval'].isin(intervals)]\n",
    "\n",
    "# Create ruble volume column\n",
    "data['ruble_volume'] = data['PRICE'] * data['VOLUME']\n",
    "\n",
    "# Group by SECCODE and interval to calculate the total ruble volume for each stock per 30-min interval\n",
    "interval_grouped = data.groupby(['SECCODE', 'interval']).agg({'ruble_volume': 'sum'}).reset_index()\n",
    "\n",
    "# Calculate the total ruble volume for each stock across all intervals for normalization\n",
    "total_ruble_volume = data.groupby('SECCODE')['ruble_volume'].sum().reset_index()\n",
    "total_ruble_volume = total_ruble_volume.rename(columns={'ruble_volume': 'total_ruble_volume'})\n",
    "\n",
    "# Merge total volume with the interval data\n",
    "interval_grouped = pd.merge(interval_grouped, total_ruble_volume, on='SECCODE')\n",
    "\n",
    "# Calculate the fraction of daily volume for each stock and interval\n",
    "interval_grouped['fraction_of_daily_volume'] = interval_grouped['ruble_volume'] / interval_grouped['total_ruble_volume']\n",
    "\n",
    "# Handle shorter intervals (9:50–10:00 and 18:50–19:00) by normalizing them (multiplying by 3 to adjust for 10-minute duration)\n",
    "interval_grouped.loc[interval_grouped['interval'] == '09:50', 'fraction_of_daily_volume'] *= 3\n",
    "interval_grouped.loc[interval_grouped['interval'] == '18:50', 'fraction_of_daily_volume'] *= 3\n",
    "\n",
    "# Calculate the average fraction of daily volume across all stocks for each 30-minute interval\n",
    "average_fraction = interval_grouped.groupby('interval')['fraction_of_daily_volume'].mean()\n",
    "\n",
    "# Plot the average fraction of daily volume for each interval\n",
    "plt.figure(figsize=(12, 6))\n",
    "average_fraction.plot(kind='bar', color='skyblue', edgecolor='k')\n",
    "plt.title(\"Average Fraction of Daily Trading Volume / 30-Minute Interval\", fontsize=8)\n",
    "plt.xlabel(\"Interval\", fontsize=7)\n",
    "plt.ylabel(\"Average Fraction of Daily Volume\", fontsize=7)\n",
    "plt.xticks(rotation=45)\n",
    "plt.grid(alpha=0.3)\n",
    "plt.tight_layout()\n",
    "\n",
    "# Save the plot to a specific folder\n",
    "plt.savefig(\"C:\\\\Users\\\\user\\\\Desktop\\\\Innopolis_courses\\\\Financy_project\\\\Plots\\\\result_2.png\")\n",
    "\n",
    "# Show the plot\n",
    "plt.show()\n",
    "\n"
   ]
  },
  {
   "cell_type": "markdown",
   "metadata": {},
   "source": [
    "### Examine whether bid-ask spreads for the set of blue-chip stocks are consistent with invariance predictions.\n",
    "1. Plot ln(Spread/P) vs ln(1/L). Check whether the slope is similar to 1 as predicted by\n",
    "invariance.<br>\n",
    "Color observations for different stocks in different colors (15 colors in total).\n",
    "3. Plot ln(Spread) vs ln(P/L). Color observations for different stocks in different colors\n",
    "(15 colors in total)."
   ]
  },
  {
   "cell_type": "code",
   "execution_count": 16,
   "metadata": {},
   "outputs": [
    {
     "data": {
      "image/png": "[encoded data removed]",
      "text/plain": [
       "<Figure size 1000x600 with 1 Axes>"
      ]
     },
     "metadata": {},
     "output_type": "display_data"
    },
    {
     "data": {
      "image/png": "[encoded data removed]",
      "text/plain": [
       "<Figure size 1000x600 with 1 Axes>"
      ]
     },
     "metadata": {},
     "output_type": "display_data"
    }
   ],
   "source": [
    "data = pd.read_csv(\"C:\\\\Users\\\\user\\\\Desktop\\\\Innopolis_courses\\\\Financy_project\\\\data\\\\Processed_data\\\\processed_data.csv\")\n",
    "\n",
    "# Extract hour and minute from TIME (HHMMSSZZZXXX format)\n",
    "data['hour'] = data['TIME'].astype(str).str[:2]\n",
    "data['minute'] = data['TIME'].astype(str).str[2:4]\n",
    "data['minute_interval'] = data['hour'] + ':' + data['minute']\n",
    "\n",
    "# Group by SECCODE and minute interval to approximate ASK and BID\n",
    "minute_grouped = data.groupby(['SECCODE', 'minute_interval'])\n",
    "\n",
    "# Calculate ASK (max price) and BID (min price)\n",
    "ask_prices = minute_grouped['PRICE'].max().rename('ASK')\n",
    "bid_prices = minute_grouped['PRICE'].min().rename('BID')\n",
    "\n",
    "# Merge ASK and BID back into the main DataFrame\n",
    "data = data.merge(ask_prices, on=['SECCODE', 'minute_interval'])\n",
    "data = data.merge(bid_prices, on=['SECCODE', 'minute_interval'])\n",
    "\n",
    "# Filter out invalid rows (e.g., spreads ≤ 0 or missing volume)\n",
    "data = data[(data['ASK'] > data['BID']) & (data['VOLUME'] > 0)]\n",
    "\n",
    "# Calculate mid-price and spread\n",
    "data['mid_price'] = (data['ASK'] + data['BID']) / 2\n",
    "data['spread'] = data['ASK'] - data['BID']\n",
    "\n",
    "# Calculate ln(Spread/P), ln(1/L), ln(Spread), and ln(P/L)\n",
    "data['ln_spread_over_price'] = np.log(data['spread'] / data['mid_price'])\n",
    "data['ln_inverse_volume'] = np.log(1 / data['VOLUME'])\n",
    "data['ln_spread'] = np.log(data['spread'])\n",
    "data['ln_price_over_volume'] = np.log(data['mid_price'] / data['VOLUME'])\n",
    "\n",
    "# Assign unique colors to each stock\n",
    "unique_stocks = data['SECCODE'].unique()\n",
    "stock_colors = {stock: color for stock, color in zip(unique_stocks, plt.cm.tab20.colors)}\n",
    "\n",
    "# ---- a) Plot ln(Spread/P) vs ln(1/L) ----\n",
    "plt.figure(figsize=(12, 6))\n",
    "for stock in unique_stocks:\n",
    "    subset = data[data['SECCODE'] == stock]\n",
    "    plt.scatter(subset['ln_inverse_volume'], subset['ln_spread_over_price'], \n",
    "                label=stock, color=stock_colors[stock], alpha=0.6)\n",
    "plt.title(r\"$\\ln(\\frac{Spread}{P})$ vs $\\ln(\\frac{1}{L})$\", fontsize=14)\n",
    "plt.xlabel(r\"$\\ln(\\frac{1}{L})$\", fontsize=12)\n",
    "plt.ylabel(r\"$\\ln(\\frac{Spread}{P})$\", fontsize=12)\n",
    "plt.grid(alpha=0.3)\n",
    "plt.legend(title=\"Stocks\", bbox_to_anchor=(1.05, 1), loc='upper left')\n",
    "plt.tight_layout()\n",
    "plt.savefig(\"ln_spread_over_price_vs_ln_inverse_volume.png\", dpi=300)\n",
    "plt.show()\n",
    "\n",
    "# ---- b) Plot ln(Spread) vs ln(P/L) ----\n",
    "plt.figure(figsize=(12, 6))\n",
    "for stock in unique_stocks:\n",
    "    subset = data[data['SECCODE'] == stock]\n",
    "    plt.scatter(subset['ln_price_over_volume'], subset['ln_spread'], \n",
    "                label=stock, color=stock_colors[stock], alpha=0.6)\n",
    "plt.title(r\"$\\ln(Spread)$ vs $\\ln(\\frac{P}{L})$\", fontsize=14)\n",
    "plt.xlabel(r\"$\\ln(\\frac{P}{L})$\", fontsize=12)\n",
    "plt.ylabel(r\"$\\ln(Spread)$\", fontsize=12)\n",
    "plt.grid(alpha=0.3)\n",
    "plt.legend(title=\"Stocks\", bbox_to_anchor=(1.05, 1), loc='upper left')\n",
    "plt.tight_layout()\n",
    "plt.savefig(\"ln_spread_vs_ln_price_over_volume.png\", dpi=300)\n",
    "plt.show()\n"
   ]
  },
  {
   "cell_type": "markdown",
   "metadata": {},
   "source": [
    "**Conclusion on my plots:** <br> we have to take mean value for ASK and BID cause if not we are getting negative spread almost for all data. The top plot (ln(Spread/P) vs ln(1/L)) indicates that there is a negative relationship between the spread (as a ratio of price) and the inverse of volume.\n"
   ]
  },
  {
   "cell_type": "markdown",
   "metadata": {},
   "source": [
    "Let's implement our last task in my research: <br>\n",
    "At the beginning of each hour, for each blue-chip stock check imbalance at the best bid\n",
    "and best offer and then trade into the direction of imbalance. If the number of shares is\n",
    "greater at the best ask (bid) comparing to the best bid (ask), then sell (buy) one unit of\n",
    "stock. Repeat this check for each of 15 stocks and construct a corresponding portfolio.\n",
    "Hold open position for one hour, then close it, redo all checks and rebalance portfolio\n",
    "for the next hour.\n",
    "1. Calculate realized return on this strategy under the assumption that you can\n",
    "trade at midquotes (paper portfolio). What is its Sharpe ratio? <br><br>\n",
    "Calculate realized return on this strategy under the assumption that you have to\n",
    "buy at the best ask and sell at the best bid (actual portfolio). What is its Sharpe\n",
    "ratio?<br><br>\n",
    "2. Try to explore this strategy and improve its Sharpe ratio. Try different horizons,\n",
    "stocks selection, or any other modifications of the algorithm you think may give\n",
    "better results. List all strategies you have tried and explain your arguments.\n"
   ]
  },
  {
   "cell_type": "code",
   "execution_count": 4,
   "metadata": {},
   "outputs": [
    {
     "name": "stdout",
     "output_type": "stream",
     "text": [
      "  SECCODE BUYSELL          TIME       TRADENO   PRICE  VOLUME      date  \\\n",
      "0    GAZP       B  100000005313  8.521259e+09  167.83      10  20231002   \n",
      "1    GAZP       B  100000005313           NaN  179.42      10  20231002   \n",
      "2    GAZP       S  100000005313           NaN  151.00    2570  20231002   \n",
      "3    GAZP       S  100000005313  8.521259e+09  167.83      10  20231002   \n",
      "4    GAZP       B  100000005313  8.521259e+09  167.83      10  20231002   \n",
      "\n",
      "                    datetime  \n",
      "0 2023-10-02 10:00:00.005313  \n",
      "1 2023-10-02 10:00:00.005313  \n",
      "2 2023-10-02 10:00:00.005313  \n",
      "3 2023-10-02 10:00:00.005313  \n",
      "4 2023-10-02 10:00:00.005313  \n"
     ]
    }
   ],
   "source": [
    "path = \"C:\\\\Users\\\\user\\\\Desktop\\\\Innopolis_courses\\\\Financy_project\\\\data\\\\combined_data\\\\combined_order_logs.csv\"\n",
    "df = pd.read_csv(path)\n",
    "\n",
    "# convert TIME and date columns into a new datetime column\n",
    "df['datetime'] = pd.to_datetime(df['date'].astype(str) + df['TIME'].astype(str), format='%Y%m%d%H%M%S%f')\n",
    "\n",
    "# View the updated DataFrame\n",
    "print(df.head())\n"
   ]
  },
  {
   "cell_type": "code",
   "execution_count": 5,
   "metadata": {},
   "outputs": [],
   "source": [
    "df.to_csv('C:\\\\Users\\\\user\\\\Desktop\\\\Innopolis_courses\\\\Financy_project\\\\data\\\\datetime\\\\datetime.csv')"
   ]
  },
  {
   "cell_type": "code",
   "execution_count": null,
   "metadata": {},
   "outputs": [],
   "source": [
    "# extract day and hour from datetime\n",
    "df['day'] = df['datetime'].dt.date\n",
    "df['hour'] = df['datetime'].dt.hour\n",
    "df_filtered = df[(df['hour'] >= 10) & (df['hour'] <= 18)]"
   ]
  },
  {
   "cell_type": "code",
   "execution_count": 13,
   "metadata": {},
   "outputs": [
    {
     "name": "stdout",
     "output_type": "stream",
     "text": [
      "     SECCODE         day  hour BUYSELL      PRICE\n",
      "0       AFKS  2023-10-02    10       B  17.235911\n",
      "1       AFKS  2023-10-02    10       S  17.240849\n",
      "2       AFKS  2023-10-02    11       B  17.265108\n",
      "3       AFKS  2023-10-02    11       S  17.270348\n",
      "4       AFKS  2023-10-02    12       B  17.346700\n",
      "...      ...         ...   ...     ...        ...\n",
      "5683    VTBR  2023-10-31    16       S   0.025203\n",
      "5684    VTBR  2023-10-31    17       B   0.025222\n",
      "5685    VTBR  2023-10-31    17       S   0.025219\n",
      "5686    VTBR  2023-10-31    18       B   0.025348\n",
      "5687    VTBR  2023-10-31    18       S   0.025340\n",
      "\n",
      "[5688 rows x 5 columns]\n"
     ]
    }
   ],
   "source": [
    "# Aggregate based on conditions\n",
    "aggregated_df = (\n",
    "    df_filtered.groupby(['SECCODE', 'day', 'hour', 'BUYSELL'])\n",
    "    .agg(\n",
    "        PRICE=('PRICE', lambda x: x.mean() if x.name == 'B' else x.mean())\n",
    "    )\n",
    "    .reset_index()\n",
    ")\n",
    "\n",
    "# View the aggregated DataFrame\n",
    "print(aggregated_df)"
   ]
  },
  {
   "cell_type": "code",
   "execution_count": 14,
   "metadata": {},
   "outputs": [
    {
     "data": {
      "text/html": [
       "<div>\n",
       "<style scoped>\n",
       "    .dataframe tbody tr th:only-of-type {\n",
       "        vertical-align: middle;\n",
       "    }\n",
       "\n",
       "    .dataframe tbody tr th {\n",
       "        vertical-align: top;\n",
       "    }\n",
       "\n",
       "    .dataframe thead th {\n",
       "        text-align: right;\n",
       "    }\n",
       "</style>\n",
       "<table border=\"1\" class=\"dataframe\">\n",
       "  <thead>\n",
       "    <tr style=\"text-align: right;\">\n",
       "      <th></th>\n",
       "      <th>SECCODE</th>\n",
       "      <th>day</th>\n",
       "      <th>hour</th>\n",
       "      <th>BUYSELL</th>\n",
       "      <th>PRICE</th>\n",
       "    </tr>\n",
       "  </thead>\n",
       "  <tbody>\n",
       "    <tr>\n",
       "      <th>0</th>\n",
       "      <td>AFKS</td>\n",
       "      <td>2023-10-02</td>\n",
       "      <td>10</td>\n",
       "      <td>B</td>\n",
       "      <td>17.235911</td>\n",
       "    </tr>\n",
       "    <tr>\n",
       "      <th>1</th>\n",
       "      <td>AFKS</td>\n",
       "      <td>2023-10-02</td>\n",
       "      <td>10</td>\n",
       "      <td>S</td>\n",
       "      <td>17.240849</td>\n",
       "    </tr>\n",
       "    <tr>\n",
       "      <th>2</th>\n",
       "      <td>AFKS</td>\n",
       "      <td>2023-10-02</td>\n",
       "      <td>11</td>\n",
       "      <td>B</td>\n",
       "      <td>17.265108</td>\n",
       "    </tr>\n",
       "    <tr>\n",
       "      <th>3</th>\n",
       "      <td>AFKS</td>\n",
       "      <td>2023-10-02</td>\n",
       "      <td>11</td>\n",
       "      <td>S</td>\n",
       "      <td>17.270348</td>\n",
       "    </tr>\n",
       "    <tr>\n",
       "      <th>4</th>\n",
       "      <td>AFKS</td>\n",
       "      <td>2023-10-02</td>\n",
       "      <td>12</td>\n",
       "      <td>B</td>\n",
       "      <td>17.346700</td>\n",
       "    </tr>\n",
       "    <tr>\n",
       "      <th>...</th>\n",
       "      <td>...</td>\n",
       "      <td>...</td>\n",
       "      <td>...</td>\n",
       "      <td>...</td>\n",
       "      <td>...</td>\n",
       "    </tr>\n",
       "    <tr>\n",
       "      <th>5683</th>\n",
       "      <td>VTBR</td>\n",
       "      <td>2023-10-31</td>\n",
       "      <td>16</td>\n",
       "      <td>S</td>\n",
       "      <td>0.025203</td>\n",
       "    </tr>\n",
       "    <tr>\n",
       "      <th>5684</th>\n",
       "      <td>VTBR</td>\n",
       "      <td>2023-10-31</td>\n",
       "      <td>17</td>\n",
       "      <td>B</td>\n",
       "      <td>0.025222</td>\n",
       "    </tr>\n",
       "    <tr>\n",
       "      <th>5685</th>\n",
       "      <td>VTBR</td>\n",
       "      <td>2023-10-31</td>\n",
       "      <td>17</td>\n",
       "      <td>S</td>\n",
       "      <td>0.025219</td>\n",
       "    </tr>\n",
       "    <tr>\n",
       "      <th>5686</th>\n",
       "      <td>VTBR</td>\n",
       "      <td>2023-10-31</td>\n",
       "      <td>18</td>\n",
       "      <td>B</td>\n",
       "      <td>0.025348</td>\n",
       "    </tr>\n",
       "    <tr>\n",
       "      <th>5687</th>\n",
       "      <td>VTBR</td>\n",
       "      <td>2023-10-31</td>\n",
       "      <td>18</td>\n",
       "      <td>S</td>\n",
       "      <td>0.025340</td>\n",
       "    </tr>\n",
       "  </tbody>\n",
       "</table>\n",
       "<p>5688 rows × 5 columns</p>\n",
       "</div>"
      ],
      "text/plain": [
       "     SECCODE         day  hour BUYSELL      PRICE\n",
       "0       AFKS  2023-10-02    10       B  17.235911\n",
       "1       AFKS  2023-10-02    10       S  17.240849\n",
       "2       AFKS  2023-10-02    11       B  17.265108\n",
       "3       AFKS  2023-10-02    11       S  17.270348\n",
       "4       AFKS  2023-10-02    12       B  17.346700\n",
       "...      ...         ...   ...     ...        ...\n",
       "5683    VTBR  2023-10-31    16       S   0.025203\n",
       "5684    VTBR  2023-10-31    17       B   0.025222\n",
       "5685    VTBR  2023-10-31    17       S   0.025219\n",
       "5686    VTBR  2023-10-31    18       B   0.025348\n",
       "5687    VTBR  2023-10-31    18       S   0.025340\n",
       "\n",
       "[5688 rows x 5 columns]"
      ]
     },
     "execution_count": 14,
     "metadata": {},
     "output_type": "execute_result"
    }
   ],
   "source": [
    "aggregated_df"
   ]
  },
  {
   "cell_type": "markdown",
   "metadata": {},
   "source": [
    "In this case B - its our BID and S - its our ASK. Here, as we can see we got the result for each particular stock for each particular hour. "
   ]
  },
  {
   "cell_type": "code",
   "execution_count": 12,
   "metadata": {},
   "outputs": [
    {
     "data": {
      "text/html": [
       "<div>\n",
       "<style scoped>\n",
       "    .dataframe tbody tr th:only-of-type {\n",
       "        vertical-align: middle;\n",
       "    }\n",
       "\n",
       "    .dataframe tbody tr th {\n",
       "        vertical-align: top;\n",
       "    }\n",
       "\n",
       "    .dataframe thead th {\n",
       "        text-align: right;\n",
       "    }\n",
       "</style>\n",
       "<table border=\"1\" class=\"dataframe\">\n",
       "  <thead>\n",
       "    <tr style=\"text-align: right;\">\n",
       "      <th></th>\n",
       "      <th>hour</th>\n",
       "      <th>PRICE</th>\n",
       "    </tr>\n",
       "  </thead>\n",
       "  <tbody>\n",
       "    <tr>\n",
       "      <th>count</th>\n",
       "      <td>5688.000000</td>\n",
       "      <td>5688.000000</td>\n",
       "    </tr>\n",
       "    <tr>\n",
       "      <th>mean</th>\n",
       "      <td>14.000000</td>\n",
       "      <td>11480.646427</td>\n",
       "    </tr>\n",
       "    <tr>\n",
       "      <th>std</th>\n",
       "      <td>2.582216</td>\n",
       "      <td>35517.270677</td>\n",
       "    </tr>\n",
       "    <tr>\n",
       "      <th>min</th>\n",
       "      <td>10.000000</td>\n",
       "      <td>0.022185</td>\n",
       "    </tr>\n",
       "    <tr>\n",
       "      <th>25%</th>\n",
       "      <td>12.000000</td>\n",
       "      <td>40.377500</td>\n",
       "    </tr>\n",
       "    <tr>\n",
       "      <th>50%</th>\n",
       "      <td>14.000000</td>\n",
       "      <td>236.800000</td>\n",
       "    </tr>\n",
       "    <tr>\n",
       "      <th>75%</th>\n",
       "      <td>16.000000</td>\n",
       "      <td>1216.650000</td>\n",
       "    </tr>\n",
       "    <tr>\n",
       "      <th>max</th>\n",
       "      <td>18.000000</td>\n",
       "      <td>149000.000000</td>\n",
       "    </tr>\n",
       "  </tbody>\n",
       "</table>\n",
       "</div>"
      ],
      "text/plain": [
       "              hour          PRICE\n",
       "count  5688.000000    5688.000000\n",
       "mean     14.000000   11480.646427\n",
       "std       2.582216   35517.270677\n",
       "min      10.000000       0.022185\n",
       "25%      12.000000      40.377500\n",
       "50%      14.000000     236.800000\n",
       "75%      16.000000    1216.650000\n",
       "max      18.000000  149000.000000"
      ]
     },
     "execution_count": 12,
     "metadata": {},
     "output_type": "execute_result"
    }
   ],
   "source": [
    "aggregated_df.describe()"
   ]
  },
  {
   "cell_type": "code",
   "execution_count": 15,
   "metadata": {},
   "outputs": [],
   "source": [
    "# let's save it to last_task.csv file \n",
    "aggregated_df.to_csv('C:\\\\Users\\\\user\\\\Desktop\\\\Innopolis_courses\\\\Financy_project\\\\data\\\\datetime\\\\last_task.csv')"
   ]
  },
  {
   "cell_type": "code",
   "execution_count": 19,
   "metadata": {},
   "outputs": [
    {
     "data": {
      "text/html": [
       "<div>\n",
       "<style scoped>\n",
       "    .dataframe tbody tr th:only-of-type {\n",
       "        vertical-align: middle;\n",
       "    }\n",
       "\n",
       "    .dataframe tbody tr th {\n",
       "        vertical-align: top;\n",
       "    }\n",
       "\n",
       "    .dataframe thead th {\n",
       "        text-align: right;\n",
       "    }\n",
       "</style>\n",
       "<table border=\"1\" class=\"dataframe\">\n",
       "  <thead>\n",
       "    <tr style=\"text-align: right;\">\n",
       "      <th></th>\n",
       "      <th>SECCODE</th>\n",
       "      <th>day</th>\n",
       "      <th>hour</th>\n",
       "      <th>BUYSELL</th>\n",
       "      <th>PRICE</th>\n",
       "    </tr>\n",
       "  </thead>\n",
       "  <tbody>\n",
       "    <tr>\n",
       "      <th>0</th>\n",
       "      <td>AFKS</td>\n",
       "      <td>2023-10-02</td>\n",
       "      <td>10</td>\n",
       "      <td>B</td>\n",
       "      <td>17.235911</td>\n",
       "    </tr>\n",
       "    <tr>\n",
       "      <th>1</th>\n",
       "      <td>AFKS</td>\n",
       "      <td>2023-10-02</td>\n",
       "      <td>10</td>\n",
       "      <td>S</td>\n",
       "      <td>17.240849</td>\n",
       "    </tr>\n",
       "    <tr>\n",
       "      <th>2</th>\n",
       "      <td>AFKS</td>\n",
       "      <td>2023-10-02</td>\n",
       "      <td>11</td>\n",
       "      <td>B</td>\n",
       "      <td>17.265108</td>\n",
       "    </tr>\n",
       "    <tr>\n",
       "      <th>3</th>\n",
       "      <td>AFKS</td>\n",
       "      <td>2023-10-02</td>\n",
       "      <td>11</td>\n",
       "      <td>S</td>\n",
       "      <td>17.270348</td>\n",
       "    </tr>\n",
       "    <tr>\n",
       "      <th>4</th>\n",
       "      <td>AFKS</td>\n",
       "      <td>2023-10-02</td>\n",
       "      <td>12</td>\n",
       "      <td>B</td>\n",
       "      <td>17.346700</td>\n",
       "    </tr>\n",
       "  </tbody>\n",
       "</table>\n",
       "</div>"
      ],
      "text/plain": [
       "  SECCODE         day  hour BUYSELL      PRICE\n",
       "0    AFKS  2023-10-02    10       B  17.235911\n",
       "1    AFKS  2023-10-02    10       S  17.240849\n",
       "2    AFKS  2023-10-02    11       B  17.265108\n",
       "3    AFKS  2023-10-02    11       S  17.270348\n",
       "4    AFKS  2023-10-02    12       B  17.346700"
      ]
     },
     "execution_count": 19,
     "metadata": {},
     "output_type": "execute_result"
    }
   ],
   "source": [
    "aggregated_df.head()"
   ]
  },
  {
   "cell_type": "markdown",
   "metadata": {},
   "source": [
    "Now we need to find mean for every hour for each stock. "
   ]
  },
  {
   "cell_type": "code",
   "execution_count": 23,
   "metadata": {},
   "outputs": [
    {
     "name": "stdout",
     "output_type": "stream",
     "text": [
      "Unique SECCODE: ['AFKS' 'AFLT' 'AGRO' 'ALRS' 'CBOM' 'GAZP' 'GLTR' 'GMKN' 'MAGN' 'MGNT'\n",
      " 'SBER' 'SBERP' 'TRNFP' 'VKCO' 'VTBR']\n",
      "Unique day: [datetime.date(2023, 10, 2) datetime.date(2023, 10, 3)\n",
      " datetime.date(2023, 10, 4) datetime.date(2023, 10, 5)\n",
      " datetime.date(2023, 10, 6) datetime.date(2023, 10, 9)\n",
      " datetime.date(2023, 10, 10) datetime.date(2023, 10, 11)\n",
      " datetime.date(2023, 10, 12) datetime.date(2023, 10, 13)\n",
      " datetime.date(2023, 10, 16) datetime.date(2023, 10, 17)\n",
      " datetime.date(2023, 10, 18) datetime.date(2023, 10, 19)\n",
      " datetime.date(2023, 10, 20) datetime.date(2023, 10, 23)\n",
      " datetime.date(2023, 10, 24) datetime.date(2023, 10, 25)\n",
      " datetime.date(2023, 10, 26) datetime.date(2023, 10, 27)\n",
      " datetime.date(2023, 10, 30) datetime.date(2023, 10, 31)]\n",
      "Unique hour: [10 11 12 13 14 15 16 17 18]\n"
     ]
    }
   ],
   "source": [
    "# before we'll start i want to make sure \n",
    "# that we have a correct data in my dataframe\n",
    "# it should be seccode = 15, day = 22, hour = 8\n",
    "# and price and BUYSELL dosen't matter\n",
    "\n",
    "columns_names = ['SECCODE', 'day', 'hour']\n",
    "\n",
    "for column in columns_names:\n",
    "    print(f\"Unique {column}: {aggregated_df[column].unique()}\")"
   ]
  },
  {
   "cell_type": "code",
   "execution_count": null,
   "metadata": {},
   "outputs": [
    {
     "data": {
      "text/html": [
       "<div>\n",
       "<style scoped>\n",
       "    .dataframe tbody tr th:only-of-type {\n",
       "        vertical-align: middle;\n",
       "    }\n",
       "\n",
       "    .dataframe tbody tr th {\n",
       "        vertical-align: top;\n",
       "    }\n",
       "\n",
       "    .dataframe thead th {\n",
       "        text-align: right;\n",
       "    }\n",
       "</style>\n",
       "<table border=\"1\" class=\"dataframe\">\n",
       "  <thead>\n",
       "    <tr style=\"text-align: right;\">\n",
       "      <th></th>\n",
       "      <th></th>\n",
       "      <th>BUYSELL</th>\n",
       "      <th>B</th>\n",
       "      <th>S</th>\n",
       "      <th>price_difference</th>\n",
       "    </tr>\n",
       "    <tr>\n",
       "      <th>SECCODE</th>\n",
       "      <th>day</th>\n",
       "      <th>hour</th>\n",
       "      <th></th>\n",
       "      <th></th>\n",
       "      <th></th>\n",
       "    </tr>\n",
       "  </thead>\n",
       "  <tbody>\n",
       "    <tr>\n",
       "      <th rowspan=\"5\" valign=\"top\">AFKS</th>\n",
       "      <th rowspan=\"5\" valign=\"top\">2023-10-02</th>\n",
       "      <th>10</th>\n",
       "      <td>17.235911</td>\n",
       "      <td>17.240849</td>\n",
       "      <td>0.004938</td>\n",
       "    </tr>\n",
       "    <tr>\n",
       "      <th>11</th>\n",
       "      <td>17.265108</td>\n",
       "      <td>17.270348</td>\n",
       "      <td>0.005240</td>\n",
       "    </tr>\n",
       "    <tr>\n",
       "      <th>12</th>\n",
       "      <td>17.346700</td>\n",
       "      <td>17.342974</td>\n",
       "      <td>-0.003726</td>\n",
       "    </tr>\n",
       "    <tr>\n",
       "      <th>13</th>\n",
       "      <td>17.352942</td>\n",
       "      <td>17.350853</td>\n",
       "      <td>-0.002089</td>\n",
       "    </tr>\n",
       "    <tr>\n",
       "      <th>14</th>\n",
       "      <td>17.375595</td>\n",
       "      <td>17.367784</td>\n",
       "      <td>-0.007811</td>\n",
       "    </tr>\n",
       "  </tbody>\n",
       "</table>\n",
       "</div>"
      ],
      "text/plain": [
       "BUYSELL                          B          S  price_difference\n",
       "SECCODE day        hour                                        \n",
       "AFKS    2023-10-02 10    17.235911  17.240849          0.004938\n",
       "                   11    17.265108  17.270348          0.005240\n",
       "                   12    17.346700  17.342974         -0.003726\n",
       "                   13    17.352942  17.350853         -0.002089\n",
       "                   14    17.375595  17.367784         -0.007811"
      ]
     },
     "execution_count": 30,
     "metadata": {},
     "output_type": "execute_result"
    }
   ],
   "source": [
    "# compute difference between ASK and BID\n",
    "grouped_prices = aggregated_df\n",
    "\n",
    "grouped_prices = df.groupby(['SECCODE', 'day', 'hour', 'BUYSELL'])['PRICE'].mean().unstack()\n",
    "\n",
    "grouped_prices['price_difference'] = grouped_prices['S'] - grouped_prices['B']\n",
    "\n",
    "grouped_prices.head()"
   ]
  },
  {
   "cell_type": "markdown",
   "metadata": {},
   "source": [
    "### Now we want to see, should we sell or buy"
   ]
  },
  {
   "cell_type": "code",
   "execution_count": 31,
   "metadata": {},
   "outputs": [
    {
     "data": {
      "text/html": [
       "<div>\n",
       "<style scoped>\n",
       "    .dataframe tbody tr th:only-of-type {\n",
       "        vertical-align: middle;\n",
       "    }\n",
       "\n",
       "    .dataframe tbody tr th {\n",
       "        vertical-align: top;\n",
       "    }\n",
       "\n",
       "    .dataframe thead th {\n",
       "        text-align: right;\n",
       "    }\n",
       "</style>\n",
       "<table border=\"1\" class=\"dataframe\">\n",
       "  <thead>\n",
       "    <tr style=\"text-align: right;\">\n",
       "      <th></th>\n",
       "      <th></th>\n",
       "      <th>BUYSELL</th>\n",
       "      <th>B</th>\n",
       "      <th>S</th>\n",
       "      <th>price_difference</th>\n",
       "      <th>trade_action</th>\n",
       "    </tr>\n",
       "    <tr>\n",
       "      <th>SECCODE</th>\n",
       "      <th>day</th>\n",
       "      <th>hour</th>\n",
       "      <th></th>\n",
       "      <th></th>\n",
       "      <th></th>\n",
       "      <th></th>\n",
       "    </tr>\n",
       "  </thead>\n",
       "  <tbody>\n",
       "    <tr>\n",
       "      <th rowspan=\"5\" valign=\"top\">AFKS</th>\n",
       "      <th rowspan=\"5\" valign=\"top\">2023-10-02</th>\n",
       "      <th>10</th>\n",
       "      <td>17.235911</td>\n",
       "      <td>17.240849</td>\n",
       "      <td>0.004938</td>\n",
       "      <td>SELL</td>\n",
       "    </tr>\n",
       "    <tr>\n",
       "      <th>11</th>\n",
       "      <td>17.265108</td>\n",
       "      <td>17.270348</td>\n",
       "      <td>0.005240</td>\n",
       "      <td>SELL</td>\n",
       "    </tr>\n",
       "    <tr>\n",
       "      <th>12</th>\n",
       "      <td>17.346700</td>\n",
       "      <td>17.342974</td>\n",
       "      <td>-0.003726</td>\n",
       "      <td>BUY</td>\n",
       "    </tr>\n",
       "    <tr>\n",
       "      <th>13</th>\n",
       "      <td>17.352942</td>\n",
       "      <td>17.350853</td>\n",
       "      <td>-0.002089</td>\n",
       "      <td>BUY</td>\n",
       "    </tr>\n",
       "    <tr>\n",
       "      <th>14</th>\n",
       "      <td>17.375595</td>\n",
       "      <td>17.367784</td>\n",
       "      <td>-0.007811</td>\n",
       "      <td>BUY</td>\n",
       "    </tr>\n",
       "  </tbody>\n",
       "</table>\n",
       "</div>"
      ],
      "text/plain": [
       "BUYSELL                          B          S  price_difference trade_action\n",
       "SECCODE day        hour                                                     \n",
       "AFKS    2023-10-02 10    17.235911  17.240849          0.004938         SELL\n",
       "                   11    17.265108  17.270348          0.005240         SELL\n",
       "                   12    17.346700  17.342974         -0.003726          BUY\n",
       "                   13    17.352942  17.350853         -0.002089          BUY\n",
       "                   14    17.375595  17.367784         -0.007811          BUY"
      ]
     },
     "execution_count": 31,
     "metadata": {},
     "output_type": "execute_result"
    }
   ],
   "source": [
    "grouped_prices['trade_action'] = grouped_prices['price_difference'].apply(\n",
    "    lambda x: 'BUY' if x < 0 else 'SELL')\n",
    "\n",
    "grouped_prices.head()"
   ]
  },
  {
   "cell_type": "markdown",
   "metadata": {},
   "source": [
    "### Simulate Portfolio for Paper Trades (Midquote)"
   ]
  },
  {
   "cell_type": "code",
   "execution_count": 34,
   "metadata": {},
   "outputs": [
    {
     "data": {
      "text/plain": [
       "day         hour\n",
       "2023-10-02  10     -132405.470930\n",
       "            11     -167439.039634\n",
       "            12     -155870.540563\n",
       "            13     -166467.442146\n",
       "            14     -152646.823789\n",
       "Name: trade_price, dtype: float64"
      ]
     },
     "execution_count": 34,
     "metadata": {},
     "output_type": "execute_result"
    }
   ],
   "source": [
    "# add midquote price average of ask and bid (remember that B - its our BID and S - its our ASK)\n",
    "grouped_prices['midquote'] = (grouped_prices['S'] + grouped_prices['B']) / 2\n",
    "\n",
    "grouped_prices['trade_price'] = grouped_prices.apply(\n",
    "    lambda row: row['midquote'] if row['trade_action'] == 'BUY' else -row['midquote'], axis=1)\n",
    "\n",
    "# check simulated portfolio value (sum of trade prices for each time unit)\n",
    "portfolio_value = grouped_prices.groupby(['day', 'hour'])['trade_price'].sum()\n",
    "\n",
    "# view the portfolio value over time\n",
    "portfolio_value.head()"
   ]
  },
  {
   "cell_type": "markdown",
   "metadata": {},
   "source": [
    "`trade_price`: If the trade action is `BUY`, we add the midquote price. If the action is `SELL`, we subtract the midquote price (representing a loss for selling).\n",
    "`portfolio_value`: This represents the change in portfolio value due to the trade actions at each hour."
   ]
  },
  {
   "cell_type": "markdown",
   "metadata": {},
   "source": [
    "### Simulate Portfolio for Actual Trades (Bid/Ask Prices)\n",
    "---\n",
    "For an actual portfolio, where the trade happens at the best bid (for buying) or the best ask (for selling), the logic is slightly different. You would simulate the trades using the actual bid and ask prices as follows:"
   ]
  },
  {
   "cell_type": "code",
   "execution_count": 35,
   "metadata": {},
   "outputs": [
    {
     "data": {
      "text/plain": [
       "day         hour\n",
       "2023-10-02  10      132418.896220\n",
       "            11      167538.464082\n",
       "            12      155871.643914\n",
       "            13      166533.500911\n",
       "            14      152651.078847\n",
       "Name: actual_trade_price, dtype: float64"
      ]
     },
     "execution_count": 35,
     "metadata": {},
     "output_type": "execute_result"
    }
   ],
   "source": [
    "# Simulate actual trades using bid and ask prices\n",
    "grouped_prices['actual_trade_price'] = grouped_prices.apply(\n",
    "    lambda row: row['S'] if row['trade_action'] == 'SELL' else -row['B'], axis=1\n",
    ")\n",
    "\n",
    "# Check the simulated portfolio value (sum of actual trade prices for each time unit)\n",
    "actual_portfolio_value = grouped_prices.groupby(['day', 'hour'])['actual_trade_price'].sum()\n",
    "\n",
    "# View the actual portfolio value over time\n",
    "actual_portfolio_value.head()\n"
   ]
  },
  {
   "cell_type": "markdown",
   "metadata": {},
   "source": [
    "`actual_trade_price:` For SELL, the price is the ask, as u remember it's - `S`. For BUY, the price is the bid - `B` as well ."
   ]
  },
  {
   "cell_type": "markdown",
   "metadata": {},
   "source": [
    "### Calculate Returns and Sharpe Ratios (SR)"
   ]
  },
  {
   "cell_type": "code",
   "execution_count": 36,
   "metadata": {},
   "outputs": [
    {
     "name": "stdout",
     "output_type": "stream",
     "text": [
      "Actual Portfolio Sharpe Ratio: -0.8388229101342142\n",
      "Paper Portfolio Sharpe Ratio: -0.8388687029110506\n"
     ]
    }
   ],
   "source": [
    "# for paper portfolio\n",
    "paper_returns = portfolio_value.pct_change().dropna()\n",
    "\n",
    "# SR for paper portfolio\n",
    "paper_sharpe = paper_returns.mean() / paper_returns.std()\n",
    "\n",
    "actual_returns = actual_portfolio_value.pct_change().dropna()\n",
    "\n",
    "# SR for actual portfolio\n",
    "actual_sharpe = actual_returns.mean() / actual_returns.std()\n",
    "\n",
    "print(\"Actual Portfolio Sharpe Ratio:\", actual_sharpe)\n",
    "print(\"Paper Portfolio Sharpe Ratio:\", paper_sharpe)"
   ]
  },
  {
   "cell_type": "markdown",
   "metadata": {},
   "source": [
    "**Conclusion** A negative `SR` means the strategy is losing money relative to the amount of risk it’s taking on.."
   ]
  },
  {
   "cell_type": "code",
   "execution_count": 38,
   "metadata": {},
   "outputs": [
    {
     "data": {
      "text/html": [
       "<div>\n",
       "<style scoped>\n",
       "    .dataframe tbody tr th:only-of-type {\n",
       "        vertical-align: middle;\n",
       "    }\n",
       "\n",
       "    .dataframe tbody tr th {\n",
       "        vertical-align: top;\n",
       "    }\n",
       "\n",
       "    .dataframe thead th {\n",
       "        text-align: right;\n",
       "    }\n",
       "</style>\n",
       "<table border=\"1\" class=\"dataframe\">\n",
       "  <thead>\n",
       "    <tr style=\"text-align: right;\">\n",
       "      <th></th>\n",
       "      <th></th>\n",
       "      <th>BUYSELL</th>\n",
       "      <th>B</th>\n",
       "      <th>S</th>\n",
       "      <th>price_difference</th>\n",
       "      <th>trade_action</th>\n",
       "      <th>midquote</th>\n",
       "      <th>trade_price</th>\n",
       "      <th>actual_trade_price</th>\n",
       "    </tr>\n",
       "    <tr>\n",
       "      <th>SECCODE</th>\n",
       "      <th>day</th>\n",
       "      <th>hour</th>\n",
       "      <th></th>\n",
       "      <th></th>\n",
       "      <th></th>\n",
       "      <th></th>\n",
       "      <th></th>\n",
       "      <th></th>\n",
       "      <th></th>\n",
       "    </tr>\n",
       "  </thead>\n",
       "  <tbody>\n",
       "    <tr>\n",
       "      <th rowspan=\"9\" valign=\"top\">AFKS</th>\n",
       "      <th rowspan=\"9\" valign=\"top\">2023-10-02</th>\n",
       "      <th>10</th>\n",
       "      <td>17.235911</td>\n",
       "      <td>17.240849</td>\n",
       "      <td>0.004938</td>\n",
       "      <td>SELL</td>\n",
       "      <td>17.238380</td>\n",
       "      <td>-17.238380</td>\n",
       "      <td>17.240849</td>\n",
       "    </tr>\n",
       "    <tr>\n",
       "      <th>11</th>\n",
       "      <td>17.265108</td>\n",
       "      <td>17.270348</td>\n",
       "      <td>0.005240</td>\n",
       "      <td>SELL</td>\n",
       "      <td>17.267728</td>\n",
       "      <td>-17.267728</td>\n",
       "      <td>17.270348</td>\n",
       "    </tr>\n",
       "    <tr>\n",
       "      <th>12</th>\n",
       "      <td>17.346700</td>\n",
       "      <td>17.342974</td>\n",
       "      <td>-0.003726</td>\n",
       "      <td>BUY</td>\n",
       "      <td>17.344837</td>\n",
       "      <td>17.344837</td>\n",
       "      <td>-17.346700</td>\n",
       "    </tr>\n",
       "    <tr>\n",
       "      <th>13</th>\n",
       "      <td>17.352942</td>\n",
       "      <td>17.350853</td>\n",
       "      <td>-0.002089</td>\n",
       "      <td>BUY</td>\n",
       "      <td>17.351897</td>\n",
       "      <td>17.351897</td>\n",
       "      <td>-17.352942</td>\n",
       "    </tr>\n",
       "    <tr>\n",
       "      <th>14</th>\n",
       "      <td>17.375595</td>\n",
       "      <td>17.367784</td>\n",
       "      <td>-0.007811</td>\n",
       "      <td>BUY</td>\n",
       "      <td>17.371689</td>\n",
       "      <td>17.371689</td>\n",
       "      <td>-17.375595</td>\n",
       "    </tr>\n",
       "    <tr>\n",
       "      <th>15</th>\n",
       "      <td>17.353923</td>\n",
       "      <td>17.361799</td>\n",
       "      <td>0.007876</td>\n",
       "      <td>SELL</td>\n",
       "      <td>17.357861</td>\n",
       "      <td>-17.357861</td>\n",
       "      <td>17.361799</td>\n",
       "    </tr>\n",
       "    <tr>\n",
       "      <th>16</th>\n",
       "      <td>17.328961</td>\n",
       "      <td>17.334792</td>\n",
       "      <td>0.005831</td>\n",
       "      <td>SELL</td>\n",
       "      <td>17.331876</td>\n",
       "      <td>-17.331876</td>\n",
       "      <td>17.334792</td>\n",
       "    </tr>\n",
       "    <tr>\n",
       "      <th>17</th>\n",
       "      <td>17.312601</td>\n",
       "      <td>17.316670</td>\n",
       "      <td>0.004068</td>\n",
       "      <td>SELL</td>\n",
       "      <td>17.314635</td>\n",
       "      <td>-17.314635</td>\n",
       "      <td>17.316670</td>\n",
       "    </tr>\n",
       "    <tr>\n",
       "      <th>18</th>\n",
       "      <td>17.318544</td>\n",
       "      <td>17.317647</td>\n",
       "      <td>-0.000898</td>\n",
       "      <td>BUY</td>\n",
       "      <td>17.318096</td>\n",
       "      <td>17.318096</td>\n",
       "      <td>-17.318544</td>\n",
       "    </tr>\n",
       "  </tbody>\n",
       "</table>\n",
       "</div>"
      ],
      "text/plain": [
       "BUYSELL                          B          S  price_difference trade_action  \\\n",
       "SECCODE day        hour                                                        \n",
       "AFKS    2023-10-02 10    17.235911  17.240849          0.004938         SELL   \n",
       "                   11    17.265108  17.270348          0.005240         SELL   \n",
       "                   12    17.346700  17.342974         -0.003726          BUY   \n",
       "                   13    17.352942  17.350853         -0.002089          BUY   \n",
       "                   14    17.375595  17.367784         -0.007811          BUY   \n",
       "                   15    17.353923  17.361799          0.007876         SELL   \n",
       "                   16    17.328961  17.334792          0.005831         SELL   \n",
       "                   17    17.312601  17.316670          0.004068         SELL   \n",
       "                   18    17.318544  17.317647         -0.000898          BUY   \n",
       "\n",
       "BUYSELL                   midquote  trade_price  actual_trade_price  \n",
       "SECCODE day        hour                                              \n",
       "AFKS    2023-10-02 10    17.238380   -17.238380           17.240849  \n",
       "                   11    17.267728   -17.267728           17.270348  \n",
       "                   12    17.344837    17.344837          -17.346700  \n",
       "                   13    17.351897    17.351897          -17.352942  \n",
       "                   14    17.371689    17.371689          -17.375595  \n",
       "                   15    17.357861   -17.357861           17.361799  \n",
       "                   16    17.331876   -17.331876           17.334792  \n",
       "                   17    17.314635   -17.314635           17.316670  \n",
       "                   18    17.318096    17.318096          -17.318544  "
      ]
     },
     "execution_count": 38,
     "metadata": {},
     "output_type": "execute_result"
    }
   ],
   "source": [
    "grouped_prices.head(9)"
   ]
  },
  {
   "cell_type": "code",
   "execution_count": 45,
   "metadata": {},
   "outputs": [],
   "source": [
    "# I'll save result for the last task to .csv file, so u can open them and see the results\n",
    "actual_portfolio_value.to_csv('actual_portfolio_value.csv')\n",
    "grouped_prices.to_csv('grouped_prices.csv')\n",
    "portfolio_value.to_csv('portfolio_value.csv')"
   ]
  },
  {
   "cell_type": "markdown",
   "metadata": {},
   "source": [
    "---\n",
    "### Conclusion:\n",
    "---\n",
    "\n",
    "This research focused on analyzing the trading patterns of 15 blue-chip stocks from the [MOEX](https://www.moex.com/ru) index during October 2023. Key metrics, including average daily ruble volume, daily realized volatility, number of transactions, and median ruble size of transactions, were examined. The analysis revealed insights into volatility, trading volumes, and bid-ask spreads for each stock. The findings contribute to understanding the market behavior and can inform high-frequency trading strategies, offering valuable lessons for optimizing portfolio performance through informed decision-making and risk management..."
   ]
  }
 ],
 "metadata": {
  "kernelspec": {
   "display_name": "venv",
   "language": "python",
   "name": "python3"
  },
  "language_info": {
   "codemirror_mode": {
    "name": "ipython",
    "version": 3
   },
   "file_extension": ".py",
   "mimetype": "text/x-python",
   "name": "python",
   "nbconvert_exporter": "python",
   "pygments_lexer": "ipython3",
   "version": "3.11.9"
  }
 },
 "nbformat": 4,
 "nbformat_minor": 2
}
